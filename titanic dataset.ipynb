{
 "cells": [
  {
   "cell_type": "markdown",
   "id": "2ffb8a97",
   "metadata": {},
   "source": [
    "Problem Feature:\n",
    "The sinking of the Titanic is one of the most infamous shipwrecks in history. On April 15, 1912, during her maiden voyage, the Titanic sank after colliding with an iceberg, killing 1502 out of 2224 passengers and crew. That's why the name DieTanic. This is a very unforgetable disaster that no one in the world can forget.\n",
    "\n",
    "1. Age ==>> Age in years\n",
    "\n",
    "Age is fractional if less than 1. If the age is estimated, is it in the form of xx.5\n",
    "\n",
    "2. Sibsp ==>> NO of siblings / spouses aboard the Titanic\n",
    "The dataset defines family relations in this way...\n",
    "\n",
    "a. Sibling = brother, sister, stepbrother, stepsister\n",
    "\n",
    "b. Spouse = husband, wife (mistresses and fiancés were ignored)\n",
    "\n",
    "3. Parch ==>> The dataset defines family relations in this way...\n",
    "\n",
    "a. Parent = mother, father\n",
    "\n",
    "b. Child = daughter, son, stepdaughter, stepson\n",
    "\n",
    "c. Some children travelled only with a nanny, therefore parch=0 for them.\n",
    "\n",
    "4. Pclass ==>> A proxy for socio-economic status (SES)\n",
    "\n",
    "1st = Upper\n",
    "2nd = Middle\n",
    "3rd = Lower\n",
    "\n",
    "5. Embarked ==>> Port of Embarkation\n",
    "C = Cherbourg, Q = Queenstown, S = Southampton\n",
    "\n",
    "6. Name ==>> Passenger Name\n",
    "\n",
    "7. Sex ==>> Sex\n",
    "8. Ticket ==>> Ticket number\n",
    "9. Cabin ==>> Cabin number\n",
    "10. Fare ==>> Indicating the fare paid\n",
    "11. PassengerID ==>> Passenger ID\n",
    "12. Survival ==>> Survival 0 = No, 1 = Yes"
   ]
  },
  {
   "cell_type": "code",
   "execution_count": 1,
   "id": "4980dd02",
   "metadata": {},
   "outputs": [],
   "source": [
    "# data analysis and wrangling\n",
    "import pandas as pd\n",
    "import numpy as np\n",
    "import random as rnd\n",
    "\n",
    "# visualization\n",
    "import seaborn as sns\n",
    "import matplotlib.pyplot as plt\n",
    "%matplotlib inline"
   ]
  },
  {
   "cell_type": "markdown",
   "id": "d7ab70b1",
   "metadata": {},
   "source": [
    "# Dataset"
   ]
  },
  {
   "cell_type": "code",
   "execution_count": 2,
   "id": "3848a02f",
   "metadata": {},
   "outputs": [],
   "source": [
    "train = pd.read_csv('train.csv')\n",
    "test = pd.read_csv('test.csv')"
   ]
  },
  {
   "cell_type": "code",
   "execution_count": 3,
   "id": "426ba3b5",
   "metadata": {},
   "outputs": [
    {
     "data": {
      "text/html": [
       "<div>\n",
       "<style scoped>\n",
       "    .dataframe tbody tr th:only-of-type {\n",
       "        vertical-align: middle;\n",
       "    }\n",
       "\n",
       "    .dataframe tbody tr th {\n",
       "        vertical-align: top;\n",
       "    }\n",
       "\n",
       "    .dataframe thead th {\n",
       "        text-align: right;\n",
       "    }\n",
       "</style>\n",
       "<table border=\"1\" class=\"dataframe\">\n",
       "  <thead>\n",
       "    <tr style=\"text-align: right;\">\n",
       "      <th></th>\n",
       "      <th>PassengerId</th>\n",
       "      <th>Survived</th>\n",
       "      <th>Pclass</th>\n",
       "      <th>Name</th>\n",
       "      <th>Sex</th>\n",
       "      <th>Age</th>\n",
       "      <th>SibSp</th>\n",
       "      <th>Parch</th>\n",
       "      <th>Ticket</th>\n",
       "      <th>Fare</th>\n",
       "      <th>Cabin</th>\n",
       "      <th>Embarked</th>\n",
       "    </tr>\n",
       "  </thead>\n",
       "  <tbody>\n",
       "    <tr>\n",
       "      <th>0</th>\n",
       "      <td>1</td>\n",
       "      <td>0</td>\n",
       "      <td>3</td>\n",
       "      <td>Braund, Mr. Owen Harris</td>\n",
       "      <td>male</td>\n",
       "      <td>22.0</td>\n",
       "      <td>1</td>\n",
       "      <td>0</td>\n",
       "      <td>A/5 21171</td>\n",
       "      <td>7.2500</td>\n",
       "      <td>NaN</td>\n",
       "      <td>S</td>\n",
       "    </tr>\n",
       "    <tr>\n",
       "      <th>1</th>\n",
       "      <td>2</td>\n",
       "      <td>1</td>\n",
       "      <td>1</td>\n",
       "      <td>Cumings, Mrs. John Bradley (Florence Briggs Th...</td>\n",
       "      <td>female</td>\n",
       "      <td>38.0</td>\n",
       "      <td>1</td>\n",
       "      <td>0</td>\n",
       "      <td>PC 17599</td>\n",
       "      <td>71.2833</td>\n",
       "      <td>C85</td>\n",
       "      <td>C</td>\n",
       "    </tr>\n",
       "    <tr>\n",
       "      <th>2</th>\n",
       "      <td>3</td>\n",
       "      <td>1</td>\n",
       "      <td>3</td>\n",
       "      <td>Heikkinen, Miss. Laina</td>\n",
       "      <td>female</td>\n",
       "      <td>26.0</td>\n",
       "      <td>0</td>\n",
       "      <td>0</td>\n",
       "      <td>STON/O2. 3101282</td>\n",
       "      <td>7.9250</td>\n",
       "      <td>NaN</td>\n",
       "      <td>S</td>\n",
       "    </tr>\n",
       "    <tr>\n",
       "      <th>3</th>\n",
       "      <td>4</td>\n",
       "      <td>1</td>\n",
       "      <td>1</td>\n",
       "      <td>Futrelle, Mrs. Jacques Heath (Lily May Peel)</td>\n",
       "      <td>female</td>\n",
       "      <td>35.0</td>\n",
       "      <td>1</td>\n",
       "      <td>0</td>\n",
       "      <td>113803</td>\n",
       "      <td>53.1000</td>\n",
       "      <td>C123</td>\n",
       "      <td>S</td>\n",
       "    </tr>\n",
       "    <tr>\n",
       "      <th>4</th>\n",
       "      <td>5</td>\n",
       "      <td>0</td>\n",
       "      <td>3</td>\n",
       "      <td>Allen, Mr. William Henry</td>\n",
       "      <td>male</td>\n",
       "      <td>35.0</td>\n",
       "      <td>0</td>\n",
       "      <td>0</td>\n",
       "      <td>373450</td>\n",
       "      <td>8.0500</td>\n",
       "      <td>NaN</td>\n",
       "      <td>S</td>\n",
       "    </tr>\n",
       "  </tbody>\n",
       "</table>\n",
       "</div>"
      ],
      "text/plain": [
       "   PassengerId  Survived  Pclass  \\\n",
       "0            1         0       3   \n",
       "1            2         1       1   \n",
       "2            3         1       3   \n",
       "3            4         1       1   \n",
       "4            5         0       3   \n",
       "\n",
       "                                                Name     Sex   Age  SibSp  \\\n",
       "0                            Braund, Mr. Owen Harris    male  22.0      1   \n",
       "1  Cumings, Mrs. John Bradley (Florence Briggs Th...  female  38.0      1   \n",
       "2                             Heikkinen, Miss. Laina  female  26.0      0   \n",
       "3       Futrelle, Mrs. Jacques Heath (Lily May Peel)  female  35.0      1   \n",
       "4                           Allen, Mr. William Henry    male  35.0      0   \n",
       "\n",
       "   Parch            Ticket     Fare Cabin Embarked  \n",
       "0      0         A/5 21171   7.2500   NaN        S  \n",
       "1      0          PC 17599  71.2833   C85        C  \n",
       "2      0  STON/O2. 3101282   7.9250   NaN        S  \n",
       "3      0            113803  53.1000  C123        S  \n",
       "4      0            373450   8.0500   NaN        S  "
      ]
     },
     "execution_count": 3,
     "metadata": {},
     "output_type": "execute_result"
    }
   ],
   "source": [
    "train.head()"
   ]
  },
  {
   "cell_type": "markdown",
   "id": "3c885dfa",
   "metadata": {},
   "source": [
    "# EDA"
   ]
  },
  {
   "cell_type": "code",
   "execution_count": 4,
   "id": "30cb2cd9",
   "metadata": {},
   "outputs": [
    {
     "name": "stdout",
     "output_type": "stream",
     "text": [
      "size of train data: (891, 12)\n",
      "size of test data: (418, 11)\n"
     ]
    }
   ],
   "source": [
    "print('size of train data:',train.shape)\n",
    "print('size of test data:',test.shape)"
   ]
  },
  {
   "cell_type": "code",
   "execution_count": 5,
   "id": "55455b91",
   "metadata": {},
   "outputs": [
    {
     "data": {
      "text/html": [
       "<div>\n",
       "<style scoped>\n",
       "    .dataframe tbody tr th:only-of-type {\n",
       "        vertical-align: middle;\n",
       "    }\n",
       "\n",
       "    .dataframe tbody tr th {\n",
       "        vertical-align: top;\n",
       "    }\n",
       "\n",
       "    .dataframe thead th {\n",
       "        text-align: right;\n",
       "    }\n",
       "</style>\n",
       "<table border=\"1\" class=\"dataframe\">\n",
       "  <thead>\n",
       "    <tr style=\"text-align: right;\">\n",
       "      <th></th>\n",
       "      <th>PassengerId</th>\n",
       "      <th>Survived</th>\n",
       "      <th>Pclass</th>\n",
       "      <th>Age</th>\n",
       "      <th>SibSp</th>\n",
       "      <th>Parch</th>\n",
       "      <th>Fare</th>\n",
       "    </tr>\n",
       "  </thead>\n",
       "  <tbody>\n",
       "    <tr>\n",
       "      <th>count</th>\n",
       "      <td>891.000000</td>\n",
       "      <td>891.000000</td>\n",
       "      <td>891.000000</td>\n",
       "      <td>714.000000</td>\n",
       "      <td>891.000000</td>\n",
       "      <td>891.000000</td>\n",
       "      <td>891.000000</td>\n",
       "    </tr>\n",
       "    <tr>\n",
       "      <th>mean</th>\n",
       "      <td>446.000000</td>\n",
       "      <td>0.383838</td>\n",
       "      <td>2.308642</td>\n",
       "      <td>29.699118</td>\n",
       "      <td>0.523008</td>\n",
       "      <td>0.381594</td>\n",
       "      <td>32.204208</td>\n",
       "    </tr>\n",
       "    <tr>\n",
       "      <th>std</th>\n",
       "      <td>257.353842</td>\n",
       "      <td>0.486592</td>\n",
       "      <td>0.836071</td>\n",
       "      <td>14.526497</td>\n",
       "      <td>1.102743</td>\n",
       "      <td>0.806057</td>\n",
       "      <td>49.693429</td>\n",
       "    </tr>\n",
       "    <tr>\n",
       "      <th>min</th>\n",
       "      <td>1.000000</td>\n",
       "      <td>0.000000</td>\n",
       "      <td>1.000000</td>\n",
       "      <td>0.420000</td>\n",
       "      <td>0.000000</td>\n",
       "      <td>0.000000</td>\n",
       "      <td>0.000000</td>\n",
       "    </tr>\n",
       "    <tr>\n",
       "      <th>25%</th>\n",
       "      <td>223.500000</td>\n",
       "      <td>0.000000</td>\n",
       "      <td>2.000000</td>\n",
       "      <td>20.125000</td>\n",
       "      <td>0.000000</td>\n",
       "      <td>0.000000</td>\n",
       "      <td>7.910400</td>\n",
       "    </tr>\n",
       "    <tr>\n",
       "      <th>50%</th>\n",
       "      <td>446.000000</td>\n",
       "      <td>0.000000</td>\n",
       "      <td>3.000000</td>\n",
       "      <td>28.000000</td>\n",
       "      <td>0.000000</td>\n",
       "      <td>0.000000</td>\n",
       "      <td>14.454200</td>\n",
       "    </tr>\n",
       "    <tr>\n",
       "      <th>75%</th>\n",
       "      <td>668.500000</td>\n",
       "      <td>1.000000</td>\n",
       "      <td>3.000000</td>\n",
       "      <td>38.000000</td>\n",
       "      <td>1.000000</td>\n",
       "      <td>0.000000</td>\n",
       "      <td>31.000000</td>\n",
       "    </tr>\n",
       "    <tr>\n",
       "      <th>max</th>\n",
       "      <td>891.000000</td>\n",
       "      <td>1.000000</td>\n",
       "      <td>3.000000</td>\n",
       "      <td>80.000000</td>\n",
       "      <td>8.000000</td>\n",
       "      <td>6.000000</td>\n",
       "      <td>512.329200</td>\n",
       "    </tr>\n",
       "  </tbody>\n",
       "</table>\n",
       "</div>"
      ],
      "text/plain": [
       "       PassengerId    Survived      Pclass         Age       SibSp  \\\n",
       "count   891.000000  891.000000  891.000000  714.000000  891.000000   \n",
       "mean    446.000000    0.383838    2.308642   29.699118    0.523008   \n",
       "std     257.353842    0.486592    0.836071   14.526497    1.102743   \n",
       "min       1.000000    0.000000    1.000000    0.420000    0.000000   \n",
       "25%     223.500000    0.000000    2.000000   20.125000    0.000000   \n",
       "50%     446.000000    0.000000    3.000000   28.000000    0.000000   \n",
       "75%     668.500000    1.000000    3.000000   38.000000    1.000000   \n",
       "max     891.000000    1.000000    3.000000   80.000000    8.000000   \n",
       "\n",
       "            Parch        Fare  \n",
       "count  891.000000  891.000000  \n",
       "mean     0.381594   32.204208  \n",
       "std      0.806057   49.693429  \n",
       "min      0.000000    0.000000  \n",
       "25%      0.000000    7.910400  \n",
       "50%      0.000000   14.454200  \n",
       "75%      0.000000   31.000000  \n",
       "max      6.000000  512.329200  "
      ]
     },
     "execution_count": 5,
     "metadata": {},
     "output_type": "execute_result"
    }
   ],
   "source": [
    "train.describe()"
   ]
  },
  {
   "cell_type": "code",
   "execution_count": 6,
   "id": "7748fe95",
   "metadata": {},
   "outputs": [
    {
     "name": "stdout",
     "output_type": "stream",
     "text": [
      "<class 'pandas.core.frame.DataFrame'>\n",
      "RangeIndex: 891 entries, 0 to 890\n",
      "Data columns (total 12 columns):\n",
      " #   Column       Non-Null Count  Dtype  \n",
      "---  ------       --------------  -----  \n",
      " 0   PassengerId  891 non-null    int64  \n",
      " 1   Survived     891 non-null    int64  \n",
      " 2   Pclass       891 non-null    int64  \n",
      " 3   Name         891 non-null    object \n",
      " 4   Sex          891 non-null    object \n",
      " 5   Age          714 non-null    float64\n",
      " 6   SibSp        891 non-null    int64  \n",
      " 7   Parch        891 non-null    int64  \n",
      " 8   Ticket       891 non-null    object \n",
      " 9   Fare         891 non-null    float64\n",
      " 10  Cabin        204 non-null    object \n",
      " 11  Embarked     889 non-null    object \n",
      "dtypes: float64(2), int64(5), object(5)\n",
      "memory usage: 83.7+ KB\n"
     ]
    }
   ],
   "source": [
    "train.info()"
   ]
  },
  {
   "cell_type": "markdown",
   "id": "f9a0673d",
   "metadata": {},
   "source": [
    "There is a combination of datatypes present in the data: int, float and object\n",
    "\n",
    "Categorical features: Survived, Sex, and Embarked. Ordinal: Pclass.\n",
    "\n",
    "Continous: Age, Fare. Discrete: SibSp, Parch.\n",
    "\n",
    "The target/dependent feature in our dataset is Survived, rest 11 fetaures are independent features\n",
    "\n",
    "There are 12 features, looking into each of these features:"
   ]
  },
  {
   "cell_type": "markdown",
   "id": "5efe88bd",
   "metadata": {},
   "source": [
    "1. PassengerID: Each Passeneger was provided a unique ID. Lets see how many unique users we have in our dataset"
   ]
  },
  {
   "cell_type": "code",
   "execution_count": 7,
   "id": "5f8f4a36",
   "metadata": {},
   "outputs": [
    {
     "data": {
      "text/plain": [
       "1      1\n",
       "599    1\n",
       "588    1\n",
       "589    1\n",
       "590    1\n",
       "      ..\n",
       "301    1\n",
       "302    1\n",
       "303    1\n",
       "304    1\n",
       "891    1\n",
       "Name: PassengerId, Length: 891, dtype: int64"
      ]
     },
     "execution_count": 7,
     "metadata": {},
     "output_type": "execute_result"
    }
   ],
   "source": [
    "train.PassengerId.value_counts()"
   ]
  },
  {
   "cell_type": "markdown",
   "id": "01546384",
   "metadata": {},
   "source": [
    "There are 891 unique passengers in our dataset and none of the value in this feature is null.\n",
    "\n",
    "The feature has no impact on the outcome variable. So, it will be excluded from analysis."
   ]
  },
  {
   "cell_type": "markdown",
   "id": "1516da32",
   "metadata": {},
   "source": [
    "1. Survived: It is the target variable.\n",
    "    \n",
    "The values are 0 and 1. Lets check the ratio of 0 and 1:"
   ]
  },
  {
   "cell_type": "code",
   "execution_count": 8,
   "id": "d0577047",
   "metadata": {},
   "outputs": [
    {
     "data": {
      "text/plain": [
       "0    549\n",
       "1    342\n",
       "Name: Survived, dtype: int64"
      ]
     },
     "execution_count": 8,
     "metadata": {},
     "output_type": "execute_result"
    }
   ],
   "source": [
    "train.Survived.value_counts()\n"
   ]
  },
  {
   "cell_type": "code",
   "execution_count": 10,
   "id": "0b8cea7d",
   "metadata": {},
   "outputs": [
    {
     "data": {
      "text/plain": [
       "891"
      ]
     },
     "execution_count": 10,
     "metadata": {},
     "output_type": "execute_result"
    }
   ],
   "source": [
    "549+342"
   ]
  },
  {
   "cell_type": "code",
   "execution_count": 11,
   "id": "d8cdd490",
   "metadata": {},
   "outputs": [
    {
     "data": {
      "text/plain": [
       "0.6161616161616161"
      ]
     },
     "execution_count": 11,
     "metadata": {},
     "output_type": "execute_result"
    }
   ],
   "source": [
    "549/891"
   ]
  },
  {
   "cell_type": "markdown",
   "id": "e63a4068",
   "metadata": {},
   "source": [
    "about 62% of the people died because of the sinking of the Titanic and 38% of them survived."
   ]
  },
  {
   "cell_type": "markdown",
   "id": "dcab19e7",
   "metadata": {},
   "source": [
    "1. Pclass: It is a categorical variable with 3 values: 1 class,2 class,3 class\n"
   ]
  },
  {
   "cell_type": "code",
   "execution_count": 12,
   "id": "d46fa6aa",
   "metadata": {},
   "outputs": [
    {
     "data": {
      "text/plain": [
       "3    491\n",
       "1    216\n",
       "2    184\n",
       "Name: Pclass, dtype: int64"
      ]
     },
     "execution_count": 12,
     "metadata": {},
     "output_type": "execute_result"
    }
   ],
   "source": [
    "train.Pclass.value_counts()"
   ]
  },
  {
   "cell_type": "markdown",
   "id": "ebbe0bb7",
   "metadata": {},
   "source": [
    "Majority of the people travelled belonged to the 3rd class"
   ]
  },
  {
   "cell_type": "markdown",
   "id": "81a2e56f",
   "metadata": {},
   "source": [
    "1. Name: Name feature is used to describe a name including titles, round brackets,and quotes used for alternative or short names."
   ]
  },
  {
   "cell_type": "code",
   "execution_count": 13,
   "id": "ccf50d48",
   "metadata": {},
   "outputs": [
    {
     "name": "stdout",
     "output_type": "stream",
     "text": [
      "Unique values: 891\n",
      "\n",
      " Sample values present:\n",
      " Rood, Mr. Hugh Roscoe              1\n",
      "Dean, Master. Bertram Vere         1\n",
      "Navratil, Master. Edmond Roger     1\n",
      "Landergren, Miss. Aurora Adelia    1\n",
      "Windelov, Mr. Einar                1\n",
      "                                  ..\n",
      "Hakkarainen, Mr. Pekka Pietari     1\n",
      "Fynney, Mr. Joseph J               1\n",
      "Garside, Miss. Ethel               1\n",
      "Newell, Miss. Madeleine            1\n",
      "Mellors, Mr. William John          1\n",
      "Name: Name, Length: 891, dtype: int64\n"
     ]
    }
   ],
   "source": [
    "print(\"Unique values:\",train.Name.nunique())\n",
    "\n",
    "print('\\n Sample values present:\\n',train.Name.value_counts())"
   ]
  },
  {
   "cell_type": "markdown",
   "id": "98d9018f",
   "metadata": {},
   "source": [
    "There are 891 unique values present in here, which are as such of no use but we extract information from the same make generate new features.\n"
   ]
  },
  {
   "cell_type": "markdown",
   "id": "46ba54b1",
   "metadata": {},
   "source": [
    "1. Sex: Sex is a categorical variables with 2 categries: Male and Female.\n"
   ]
  },
  {
   "cell_type": "code",
   "execution_count": 14,
   "id": "9147393b",
   "metadata": {},
   "outputs": [
    {
     "data": {
      "text/plain": [
       "male      577\n",
       "female    314\n",
       "Name: Sex, dtype: int64"
      ]
     },
     "execution_count": 14,
     "metadata": {},
     "output_type": "execute_result"
    }
   ],
   "source": [
    "train.Sex.value_counts()\n"
   ]
  },
  {
   "cell_type": "markdown",
   "id": "422812bb",
   "metadata": {},
   "source": [
    "The male travelled were almost twice the number of females."
   ]
  },
  {
   "cell_type": "markdown",
   "id": "2cb67f79",
   "metadata": {},
   "source": [
    "1. Age: Age is a numerical feature.\n"
   ]
  },
  {
   "cell_type": "code",
   "execution_count": 15,
   "id": "14a1fb7a",
   "metadata": {},
   "outputs": [
    {
     "name": "stdout",
     "output_type": "stream",
     "text": [
      "Age varies from:  0.42 yrs to 80.0 yrs\n"
     ]
    }
   ],
   "source": [
    "print(\"Age varies from: \",train.Age.min(),'yrs to',train.Age.max(),'yrs')\n"
   ]
  },
  {
   "cell_type": "markdown",
   "id": "c9234918",
   "metadata": {},
   "source": [
    "1. SibSp: The no of siblings/spouse that travelled with a person.\n"
   ]
  },
  {
   "cell_type": "code",
   "execution_count": 16,
   "id": "ee3f4b3f",
   "metadata": {},
   "outputs": [
    {
     "data": {
      "text/plain": [
       "0    608\n",
       "1    209\n",
       "2     28\n",
       "4     18\n",
       "3     16\n",
       "8      7\n",
       "5      5\n",
       "Name: SibSp, dtype: int64"
      ]
     },
     "execution_count": 16,
     "metadata": {},
     "output_type": "execute_result"
    }
   ],
   "source": [
    "train.SibSp.value_counts()\n"
   ]
  },
  {
   "cell_type": "markdown",
   "id": "f809f2d6",
   "metadata": {},
   "source": [
    "1. Parch: The no of parents/children that travelled with a person.\n"
   ]
  },
  {
   "cell_type": "code",
   "execution_count": 17,
   "id": "bc87a75d",
   "metadata": {},
   "outputs": [
    {
     "data": {
      "text/plain": [
       "0    678\n",
       "1    118\n",
       "2     80\n",
       "3      5\n",
       "5      5\n",
       "4      4\n",
       "6      1\n",
       "Name: Parch, dtype: int64"
      ]
     },
     "execution_count": 17,
     "metadata": {},
     "output_type": "execute_result"
    }
   ],
   "source": [
    "train.Parch.value_counts()\n"
   ]
  },
  {
   "cell_type": "markdown",
   "id": "a4013889",
   "metadata": {},
   "source": [
    "1. Ticket: The ticket no allocated to each person. Ticket is a mix of numeric and alphanumeric data types and contains duplicate values.\n"
   ]
  },
  {
   "cell_type": "code",
   "execution_count": 18,
   "id": "c10c327c",
   "metadata": {},
   "outputs": [
    {
     "data": {
      "text/plain": [
       "1601                 7\n",
       "CA. 2343             7\n",
       "347082               7\n",
       "347088               6\n",
       "CA 2144              6\n",
       "                    ..\n",
       "PC 17473             1\n",
       "STON/O 2. 3101293    1\n",
       "A4. 54510            1\n",
       "347078               1\n",
       "28134                1\n",
       "Name: Ticket, Length: 681, dtype: int64"
      ]
     },
     "execution_count": 18,
     "metadata": {},
     "output_type": "execute_result"
    }
   ],
   "source": [
    "train.Ticket.value_counts()\n"
   ]
  },
  {
   "cell_type": "markdown",
   "id": "a2d20fd0",
   "metadata": {},
   "source": [
    "There are some missing values present in this feature.\n"
   ]
  },
  {
   "cell_type": "markdown",
   "id": "4a5e5ddc",
   "metadata": {},
   "source": [
    "1. Fare: The amount paid by each passeneger.\n"
   ]
  },
  {
   "cell_type": "code",
   "execution_count": 19,
   "id": "8c337e39",
   "metadata": {},
   "outputs": [
    {
     "name": "stdout",
     "output_type": "stream",
     "text": [
      "Fare varies from:  0.0 to 512.3292\n"
     ]
    }
   ],
   "source": [
    "print(\"Fare varies from: \",train.Fare.min(),'to',train.Fare.max())\n"
   ]
  },
  {
   "cell_type": "markdown",
   "id": "7d60e10e",
   "metadata": {},
   "source": [
    "1. Cabin: Cabin numbers are stored in this feature ,some cabin numbers are repeated as the same cabin can be shared among the passenegers belonging to the same family, null values values are also present in this feature. Cabin is alphanumeric.\n"
   ]
  },
  {
   "cell_type": "code",
   "execution_count": 20,
   "id": "04555231",
   "metadata": {},
   "outputs": [
    {
     "data": {
      "text/plain": [
       "B96 B98        4\n",
       "C23 C25 C27    4\n",
       "G6             4\n",
       "F2             3\n",
       "C22 C26        3\n",
       "              ..\n",
       "C86            1\n",
       "C110           1\n",
       "C50            1\n",
       "D47            1\n",
       "C104           1\n",
       "Name: Cabin, Length: 147, dtype: int64"
      ]
     },
     "execution_count": 20,
     "metadata": {},
     "output_type": "execute_result"
    }
   ],
   "source": [
    "train.Cabin.value_counts()\n"
   ]
  },
  {
   "cell_type": "markdown",
   "id": "41c2529e",
   "metadata": {},
   "source": [
    "1. Embarked : Embarked is a categorical variables with 3 categries: C(Cherbourg), Q(Queenstown) and S(Southampton)\n"
   ]
  },
  {
   "cell_type": "code",
   "execution_count": 22,
   "id": "bd5593d0",
   "metadata": {},
   "outputs": [
    {
     "data": {
      "text/plain": [
       "S    644\n",
       "C    168\n",
       "Q     77\n",
       "Name: Embarked, dtype: int64"
      ]
     },
     "execution_count": 22,
     "metadata": {},
     "output_type": "execute_result"
    }
   ],
   "source": [
    "train.Embarked.value_counts()\n"
   ]
  },
  {
   "cell_type": "markdown",
   "id": "bfc80a9d",
   "metadata": {},
   "source": [
    "# EDA"
   ]
  },
  {
   "cell_type": "code",
   "execution_count": 23,
   "id": "7b1e217a",
   "metadata": {},
   "outputs": [
    {
     "data": {
      "image/png": "[encoded data removed]",
      "text/plain": [
       "<Figure size 720x360 with 2 Axes>"
      ]
     },
     "metadata": {
      "needs_background": "light"
     },
     "output_type": "display_data"
    }
   ],
   "source": [
    "# Correlation matrix between numerical values\n",
    "\n",
    "plt.figure(figsize=(10, 5))\n",
    "cor = train.corr()\n",
    "ax = sns.heatmap(cor,annot=True)\n",
    "bottom, top = ax.get_ylim()\n",
    "ax.set_ylim(bottom + 0.5, top - 0.5)\n",
    "plt.show()"
   ]
  },
  {
   "cell_type": "markdown",
   "id": "7cdcbbf3",
   "metadata": {},
   "source": [
    "Only Fare feature seems to have a significative correlation with the survival probability.\n",
    "\n"
   ]
  },
  {
   "cell_type": "code",
   "execution_count": 24,
   "id": "093a31cd",
   "metadata": {},
   "outputs": [
    {
     "data": {
      "image/png": "[encoded data removed]",
      "text/plain": [
       "<Figure size 432x288 with 1 Axes>"
      ]
     },
     "metadata": {
      "needs_background": "light"
     },
     "output_type": "display_data"
    },
    {
     "data": {
      "text/plain": [
       "Sex\n",
       "female    68.128655\n",
       "male      31.871345\n",
       "Name: Pclass, dtype: float64"
      ]
     },
     "execution_count": 24,
     "metadata": {},
     "output_type": "execute_result"
    }
   ],
   "source": [
    "#A bar plot of survival by sex\n",
    "train.groupby(['Sex', 'Survived'])['Pclass'].count().plot(kind = 'bar')\n",
    "plt.title('Comparing based on Sex and Survival')\n",
    "plt.show()\n",
    "\n",
    "#percentages of females vs. males that survive\n",
    "d = train[train['Survived'] == 1].groupby('Sex').count()['Pclass']\n",
    "(d / d.sum()) * 100"
   ]
  },
  {
   "cell_type": "markdown",
   "id": "24ad2e7c",
   "metadata": {},
   "source": [
    "The number of males present in our data is more than the females present still the number of females survived are more than males.\n",
    "\n",
    "Survived feamles are 68% where as the survied males account for just 32%."
   ]
  },
  {
   "cell_type": "code",
   "execution_count": 25,
   "id": "237ed7a5",
   "metadata": {},
   "outputs": [
    {
     "name": "stderr",
     "output_type": "stream",
     "text": [
      "C:\\Users\\Arvind Sain\\anaconda3\\lib\\site-packages\\seaborn\\categorical.py:3714: UserWarning: The `factorplot` function has been renamed to `catplot`. The original name will be removed in a future release. Please update your code. Note that the default `kind` in `factorplot` (`'point'`) has changed `'strip'` in `catplot`.\n",
      "  warnings.warn(msg)\n",
      "C:\\Users\\Arvind Sain\\anaconda3\\lib\\site-packages\\seaborn\\categorical.py:3720: UserWarning: The `size` parameter has been renamed to `height`; please update your code.\n",
      "  warnings.warn(msg, UserWarning)\n"
     ]
    },
    {
     "data": {
      "image/png": "[encoded data removed]",
      "text/plain": [
       "<Figure size 432x432 with 1 Axes>"
      ]
     },
     "metadata": {
      "needs_background": "light"
     },
     "output_type": "display_data"
    }
   ],
   "source": [
    "#SibSp feature vs Survived\n",
    "\n",
    "g = sns.factorplot(x=\"SibSp\",y=\"Survived\",data=train,kind=\"bar\", size = 6 ,palette = \"muted\")\n",
    "g.despine(left=True)\n",
    "g = g.set_ylabels(\"survival probability\")"
   ]
  },
  {
   "cell_type": "markdown",
   "id": "b08ee915",
   "metadata": {},
   "source": [
    "It seems that passengers having a lot of siblings/spouses have less chance to survive\n",
    "\n",
    "Single passengers (0 SibSP) or with two other persons (SibSP 1 or 2) have more chance to survive"
   ]
  },
  {
   "cell_type": "code",
   "execution_count": 27,
   "id": "8cbde43a",
   "metadata": {},
   "outputs": [
    {
     "data": {
      "image/png": "[encoded data removed]",
      "text/plain": [
       "<Figure size 432x288 with 1 Axes>"
      ]
     },
     "metadata": {
      "needs_background": "light"
     },
     "output_type": "display_data"
    },
    {
     "data": {
      "text/plain": [
       "1    39.766082\n",
       "3    34.795322\n",
       "2    25.438596\n",
       "Name: Pclass, dtype: float64"
      ]
     },
     "execution_count": 27,
     "metadata": {},
     "output_type": "execute_result"
    }
   ],
   "source": [
    "# Passengers from which class survived the most?\n",
    "\n",
    "sns.countplot(x = 'Pclass', hue = 'Survived', data = train)\n",
    "plt.show()\n",
    "\n",
    "#print percentages of 1st vs. 2nd and 3rd class\n",
    "train[train['Survived'] == 1]['Pclass'].value_counts(normalize = True) * 100"
   ]
  },
  {
   "cell_type": "markdown",
   "id": "5c14d8fd",
   "metadata": {},
   "source": [
    "Most of the people survived are from PClass 1 which is around 40% of the survival rate followed by PClass 3, then PClass 2.\n",
    "\n",
    "Majority of the passengers in our dataset belong to Pclass 3."
   ]
  },
  {
   "cell_type": "code",
   "execution_count": 29,
   "id": "06b822ee",
   "metadata": {},
   "outputs": [
    {
     "data": {
      "image/png": "[encoded data removed]",
      "text/plain": [
       "<Figure size 1080x360 with 2 Axes>"
      ]
     },
     "metadata": {
      "needs_background": "light"
     },
     "output_type": "display_data"
    }
   ],
   "source": [
    "#Pclass vs. Age sliced by Survived\n",
    "\n",
    "# create subplot plot\n",
    "fig, axes = plt.subplots(1, 2, figsize = (15, 5))\n",
    "\n",
    "# create violinplot plot using groupby\n",
    "sns.violinplot(x = 'Pclass', y = 'Age', data = train, hue = 'Survived', split = True, ax = axes[0])\n",
    "sns.violinplot(x = 'Sex', y = 'Age', data = train, hue = 'Survived', split = True, ax = axes[1])\n",
    "plt.show()"
   ]
  },
  {
   "cell_type": "markdown",
   "id": "97f1c174",
   "metadata": {},
   "source": [
    "In PClass 1, the spread of age is more. And sex wise, spread of age is more in males. Highest number of deaths are from males and from Pclass 3.\n",
    "\n",
    "Maximum males died were of age between 20-30 years.\n",
    "\n",
    "Maximum females survived were of age between 20-40 years."
   ]
  },
  {
   "cell_type": "code",
   "execution_count": 30,
   "id": "6a4ef3cc",
   "metadata": {},
   "outputs": [
    {
     "data": {
      "image/png": "[encoded data removed]",
      "text/plain": [
       "<Figure size 1080x720 with 4 Axes>"
      ]
     },
     "metadata": {
      "needs_background": "light"
     },
     "output_type": "display_data"
    }
   ],
   "source": [
    "#Embarked vs (No. of passengers, sex, Survived , Pclass)\n",
    "\n",
    "# create subplot plot\n",
    "fig, axes = plt.subplots(2, 2, figsize = (15, 10))\n",
    "\n",
    "# create Bar (count) plot for Embarked vs. No. Of Passengers Boarded\n",
    "sns.countplot(x = 'Embarked', data = train, ax = axes[0,0])\n",
    "\n",
    "# create Bar (count) plot for Embarked vs. Male-Female Split\n",
    "sns.countplot(x = 'Embarked', hue = 'Sex', data = train, ax = axes[0,1])\n",
    "\n",
    "# create Bar (count) plot for Embarked vs Survived\n",
    "sns.countplot(x = 'Embarked', hue = 'Survived', data = train, ax = axes[1,0])\n",
    "\n",
    "# create Bar (count) plot for Embarked vs Pclass\n",
    "sns.countplot(x = 'Embarked', hue = 'Pclass', data = train, ax = axes[1,1])\n",
    "plt.show()"
   ]
  },
  {
   "cell_type": "markdown",
   "id": "f3591408",
   "metadata": {},
   "source": [
    "Maximum people embarked from Southampton.\n",
    "\n",
    "The count of males embarked are more from each region.\n",
    "\n",
    "Maximum people died are from Southampton and maximum number of people who survied are females who embarked from Southampton.\n",
    "\n",
    "Maximum people embarked from Southampton are from Pclass 3."
   ]
  },
  {
   "cell_type": "code",
   "execution_count": 31,
   "id": "27d5d3b0",
   "metadata": {},
   "outputs": [
    {
     "data": {
      "image/png": "[encoded data removed]",
      "text/plain": [
       "<Figure size 432x288 with 1 Axes>"
      ]
     },
     "metadata": {
      "needs_background": "light"
     },
     "output_type": "display_data"
    }
   ],
   "source": [
    "#age v/s fare with target variable(Survived)\n",
    "\n",
    "sns.scatterplot(x = train['Age'], y = train['Fare'], hue = train['Survived'])\n",
    "plt.xlabel('Age')\n",
    "plt.ylabel('Fare')\n",
    "plt.show()"
   ]
  },
  {
   "cell_type": "markdown",
   "id": "ff9aad27",
   "metadata": {},
   "source": [
    "The people who survived had paid more fare and the spread of age is even for both who survived and who died."
   ]
  },
  {
   "cell_type": "markdown",
   "id": "1c1f645d",
   "metadata": {},
   "source": [
    "# Data preprocessing\n"
   ]
  },
  {
   "cell_type": "code",
   "execution_count": 32,
   "id": "7f68cd71",
   "metadata": {},
   "outputs": [],
   "source": [
    "# lets combine the data for data prep\n",
    "\n",
    "test['Survived']=np.nan\n",
    "train['data']='train'\n",
    "test['data']='test'\n",
    "test=test[train.columns]\n",
    "\n",
    "combined = pd.concat([train,test], sort = False , ignore_index= True)"
   ]
  },
  {
   "cell_type": "code",
   "execution_count": 33,
   "id": "96f6a4bc",
   "metadata": {},
   "outputs": [
    {
     "data": {
      "text/html": [
       "<div>\n",
       "<style scoped>\n",
       "    .dataframe tbody tr th:only-of-type {\n",
       "        vertical-align: middle;\n",
       "    }\n",
       "\n",
       "    .dataframe tbody tr th {\n",
       "        vertical-align: top;\n",
       "    }\n",
       "\n",
       "    .dataframe thead th {\n",
       "        text-align: right;\n",
       "    }\n",
       "</style>\n",
       "<table border=\"1\" class=\"dataframe\">\n",
       "  <thead>\n",
       "    <tr style=\"text-align: right;\">\n",
       "      <th></th>\n",
       "      <th>PassengerId</th>\n",
       "      <th>Survived</th>\n",
       "      <th>Pclass</th>\n",
       "      <th>Name</th>\n",
       "      <th>Sex</th>\n",
       "      <th>Age</th>\n",
       "      <th>SibSp</th>\n",
       "      <th>Parch</th>\n",
       "      <th>Ticket</th>\n",
       "      <th>Fare</th>\n",
       "      <th>Cabin</th>\n",
       "      <th>Embarked</th>\n",
       "      <th>data</th>\n",
       "    </tr>\n",
       "  </thead>\n",
       "  <tbody>\n",
       "    <tr>\n",
       "      <th>0</th>\n",
       "      <td>1</td>\n",
       "      <td>0.0</td>\n",
       "      <td>3</td>\n",
       "      <td>Braund, Mr. Owen Harris</td>\n",
       "      <td>male</td>\n",
       "      <td>22.0</td>\n",
       "      <td>1</td>\n",
       "      <td>0</td>\n",
       "      <td>A/5 21171</td>\n",
       "      <td>7.2500</td>\n",
       "      <td>NaN</td>\n",
       "      <td>S</td>\n",
       "      <td>train</td>\n",
       "    </tr>\n",
       "    <tr>\n",
       "      <th>1</th>\n",
       "      <td>2</td>\n",
       "      <td>1.0</td>\n",
       "      <td>1</td>\n",
       "      <td>Cumings, Mrs. John Bradley (Florence Briggs Th...</td>\n",
       "      <td>female</td>\n",
       "      <td>38.0</td>\n",
       "      <td>1</td>\n",
       "      <td>0</td>\n",
       "      <td>PC 17599</td>\n",
       "      <td>71.2833</td>\n",
       "      <td>C85</td>\n",
       "      <td>C</td>\n",
       "      <td>train</td>\n",
       "    </tr>\n",
       "    <tr>\n",
       "      <th>2</th>\n",
       "      <td>3</td>\n",
       "      <td>1.0</td>\n",
       "      <td>3</td>\n",
       "      <td>Heikkinen, Miss. Laina</td>\n",
       "      <td>female</td>\n",
       "      <td>26.0</td>\n",
       "      <td>0</td>\n",
       "      <td>0</td>\n",
       "      <td>STON/O2. 3101282</td>\n",
       "      <td>7.9250</td>\n",
       "      <td>NaN</td>\n",
       "      <td>S</td>\n",
       "      <td>train</td>\n",
       "    </tr>\n",
       "    <tr>\n",
       "      <th>3</th>\n",
       "      <td>4</td>\n",
       "      <td>1.0</td>\n",
       "      <td>1</td>\n",
       "      <td>Futrelle, Mrs. Jacques Heath (Lily May Peel)</td>\n",
       "      <td>female</td>\n",
       "      <td>35.0</td>\n",
       "      <td>1</td>\n",
       "      <td>0</td>\n",
       "      <td>113803</td>\n",
       "      <td>53.1000</td>\n",
       "      <td>C123</td>\n",
       "      <td>S</td>\n",
       "      <td>train</td>\n",
       "    </tr>\n",
       "    <tr>\n",
       "      <th>4</th>\n",
       "      <td>5</td>\n",
       "      <td>0.0</td>\n",
       "      <td>3</td>\n",
       "      <td>Allen, Mr. William Henry</td>\n",
       "      <td>male</td>\n",
       "      <td>35.0</td>\n",
       "      <td>0</td>\n",
       "      <td>0</td>\n",
       "      <td>373450</td>\n",
       "      <td>8.0500</td>\n",
       "      <td>NaN</td>\n",
       "      <td>S</td>\n",
       "      <td>train</td>\n",
       "    </tr>\n",
       "  </tbody>\n",
       "</table>\n",
       "</div>"
      ],
      "text/plain": [
       "   PassengerId  Survived  Pclass  \\\n",
       "0            1       0.0       3   \n",
       "1            2       1.0       1   \n",
       "2            3       1.0       3   \n",
       "3            4       1.0       1   \n",
       "4            5       0.0       3   \n",
       "\n",
       "                                                Name     Sex   Age  SibSp  \\\n",
       "0                            Braund, Mr. Owen Harris    male  22.0      1   \n",
       "1  Cumings, Mrs. John Bradley (Florence Briggs Th...  female  38.0      1   \n",
       "2                             Heikkinen, Miss. Laina  female  26.0      0   \n",
       "3       Futrelle, Mrs. Jacques Heath (Lily May Peel)  female  35.0      1   \n",
       "4                           Allen, Mr. William Henry    male  35.0      0   \n",
       "\n",
       "   Parch            Ticket     Fare Cabin Embarked   data  \n",
       "0      0         A/5 21171   7.2500   NaN        S  train  \n",
       "1      0          PC 17599  71.2833   C85        C  train  \n",
       "2      0  STON/O2. 3101282   7.9250   NaN        S  train  \n",
       "3      0            113803  53.1000  C123        S  train  \n",
       "4      0            373450   8.0500   NaN        S  train  "
      ]
     },
     "execution_count": 33,
     "metadata": {},
     "output_type": "execute_result"
    }
   ],
   "source": [
    "combined.head()"
   ]
  },
  {
   "cell_type": "code",
   "execution_count": 34,
   "id": "171c9f2d",
   "metadata": {},
   "outputs": [
    {
     "data": {
      "text/plain": [
       "' Mr'"
      ]
     },
     "execution_count": 34,
     "metadata": {},
     "output_type": "execute_result"
    }
   ],
   "source": [
    "# Extracting relevant information from the Name feature and creating a new feature Title\n",
    "\n",
    "combined['Name'][0].split(',')[1].split('.')[0]"
   ]
  },
  {
   "cell_type": "code",
   "execution_count": 35,
   "id": "2aeee2b1",
   "metadata": {},
   "outputs": [
    {
     "data": {
      "text/plain": [
       "1309"
      ]
     },
     "execution_count": 35,
     "metadata": {},
     "output_type": "execute_result"
    }
   ],
   "source": [
    "combined['Name'].size\n"
   ]
  },
  {
   "cell_type": "code",
   "execution_count": 36,
   "id": "3d621aa7",
   "metadata": {},
   "outputs": [],
   "source": [
    "lst = []\n",
    "\n",
    "for i in range(0,combined['Name'].size):\n",
    "    a = combined['Name'][i].split(',')[1].split('.')[0]\n",
    "    lst.append(a)"
   ]
  },
  {
   "cell_type": "code",
   "execution_count": 37,
   "id": "ee35ec05",
   "metadata": {},
   "outputs": [],
   "source": [
    "combined['Title'] = lst\n"
   ]
  },
  {
   "cell_type": "code",
   "execution_count": 38,
   "id": "b1bb2c66",
   "metadata": {},
   "outputs": [
    {
     "data": {
      "text/html": [
       "<div>\n",
       "<style scoped>\n",
       "    .dataframe tbody tr th:only-of-type {\n",
       "        vertical-align: middle;\n",
       "    }\n",
       "\n",
       "    .dataframe tbody tr th {\n",
       "        vertical-align: top;\n",
       "    }\n",
       "\n",
       "    .dataframe thead th {\n",
       "        text-align: right;\n",
       "    }\n",
       "</style>\n",
       "<table border=\"1\" class=\"dataframe\">\n",
       "  <thead>\n",
       "    <tr style=\"text-align: right;\">\n",
       "      <th></th>\n",
       "      <th>PassengerId</th>\n",
       "      <th>Survived</th>\n",
       "      <th>Pclass</th>\n",
       "      <th>Name</th>\n",
       "      <th>Sex</th>\n",
       "      <th>Age</th>\n",
       "      <th>SibSp</th>\n",
       "      <th>Parch</th>\n",
       "      <th>Ticket</th>\n",
       "      <th>Fare</th>\n",
       "      <th>Cabin</th>\n",
       "      <th>Embarked</th>\n",
       "      <th>data</th>\n",
       "      <th>Title</th>\n",
       "    </tr>\n",
       "  </thead>\n",
       "  <tbody>\n",
       "    <tr>\n",
       "      <th>0</th>\n",
       "      <td>1</td>\n",
       "      <td>0.0</td>\n",
       "      <td>3</td>\n",
       "      <td>Braund, Mr. Owen Harris</td>\n",
       "      <td>male</td>\n",
       "      <td>22.0</td>\n",
       "      <td>1</td>\n",
       "      <td>0</td>\n",
       "      <td>A/5 21171</td>\n",
       "      <td>7.2500</td>\n",
       "      <td>NaN</td>\n",
       "      <td>S</td>\n",
       "      <td>train</td>\n",
       "      <td>Mr</td>\n",
       "    </tr>\n",
       "    <tr>\n",
       "      <th>1</th>\n",
       "      <td>2</td>\n",
       "      <td>1.0</td>\n",
       "      <td>1</td>\n",
       "      <td>Cumings, Mrs. John Bradley (Florence Briggs Th...</td>\n",
       "      <td>female</td>\n",
       "      <td>38.0</td>\n",
       "      <td>1</td>\n",
       "      <td>0</td>\n",
       "      <td>PC 17599</td>\n",
       "      <td>71.2833</td>\n",
       "      <td>C85</td>\n",
       "      <td>C</td>\n",
       "      <td>train</td>\n",
       "      <td>Mrs</td>\n",
       "    </tr>\n",
       "    <tr>\n",
       "      <th>2</th>\n",
       "      <td>3</td>\n",
       "      <td>1.0</td>\n",
       "      <td>3</td>\n",
       "      <td>Heikkinen, Miss. Laina</td>\n",
       "      <td>female</td>\n",
       "      <td>26.0</td>\n",
       "      <td>0</td>\n",
       "      <td>0</td>\n",
       "      <td>STON/O2. 3101282</td>\n",
       "      <td>7.9250</td>\n",
       "      <td>NaN</td>\n",
       "      <td>S</td>\n",
       "      <td>train</td>\n",
       "      <td>Miss</td>\n",
       "    </tr>\n",
       "    <tr>\n",
       "      <th>3</th>\n",
       "      <td>4</td>\n",
       "      <td>1.0</td>\n",
       "      <td>1</td>\n",
       "      <td>Futrelle, Mrs. Jacques Heath (Lily May Peel)</td>\n",
       "      <td>female</td>\n",
       "      <td>35.0</td>\n",
       "      <td>1</td>\n",
       "      <td>0</td>\n",
       "      <td>113803</td>\n",
       "      <td>53.1000</td>\n",
       "      <td>C123</td>\n",
       "      <td>S</td>\n",
       "      <td>train</td>\n",
       "      <td>Mrs</td>\n",
       "    </tr>\n",
       "    <tr>\n",
       "      <th>4</th>\n",
       "      <td>5</td>\n",
       "      <td>0.0</td>\n",
       "      <td>3</td>\n",
       "      <td>Allen, Mr. William Henry</td>\n",
       "      <td>male</td>\n",
       "      <td>35.0</td>\n",
       "      <td>0</td>\n",
       "      <td>0</td>\n",
       "      <td>373450</td>\n",
       "      <td>8.0500</td>\n",
       "      <td>NaN</td>\n",
       "      <td>S</td>\n",
       "      <td>train</td>\n",
       "      <td>Mr</td>\n",
       "    </tr>\n",
       "  </tbody>\n",
       "</table>\n",
       "</div>"
      ],
      "text/plain": [
       "   PassengerId  Survived  Pclass  \\\n",
       "0            1       0.0       3   \n",
       "1            2       1.0       1   \n",
       "2            3       1.0       3   \n",
       "3            4       1.0       1   \n",
       "4            5       0.0       3   \n",
       "\n",
       "                                                Name     Sex   Age  SibSp  \\\n",
       "0                            Braund, Mr. Owen Harris    male  22.0      1   \n",
       "1  Cumings, Mrs. John Bradley (Florence Briggs Th...  female  38.0      1   \n",
       "2                             Heikkinen, Miss. Laina  female  26.0      0   \n",
       "3       Futrelle, Mrs. Jacques Heath (Lily May Peel)  female  35.0      1   \n",
       "4                           Allen, Mr. William Henry    male  35.0      0   \n",
       "\n",
       "   Parch            Ticket     Fare Cabin Embarked   data  Title  \n",
       "0      0         A/5 21171   7.2500   NaN        S  train     Mr  \n",
       "1      0          PC 17599  71.2833   C85        C  train    Mrs  \n",
       "2      0  STON/O2. 3101282   7.9250   NaN        S  train   Miss  \n",
       "3      0            113803  53.1000  C123        S  train    Mrs  \n",
       "4      0            373450   8.0500   NaN        S  train     Mr  "
      ]
     },
     "execution_count": 38,
     "metadata": {},
     "output_type": "execute_result"
    }
   ],
   "source": [
    "combined.head()\n"
   ]
  },
  {
   "cell_type": "code",
   "execution_count": 39,
   "id": "c89f2f93",
   "metadata": {},
   "outputs": [
    {
     "data": {
      "text/plain": [
       "18"
      ]
     },
     "execution_count": 39,
     "metadata": {},
     "output_type": "execute_result"
    }
   ],
   "source": [
    "combined['Title'].nunique()\n"
   ]
  },
  {
   "cell_type": "markdown",
   "id": "5f2adad2",
   "metadata": {},
   "source": [
    "Now the feature Title has been converted into a categorical feature with 18 different categories\n",
    "\n"
   ]
  },
  {
   "cell_type": "code",
   "execution_count": 40,
   "id": "10fc65b5",
   "metadata": {},
   "outputs": [
    {
     "data": {
      "text/plain": [
       " Mr              757\n",
       " Miss            260\n",
       " Mrs             197\n",
       " Master           61\n",
       " Rev               8\n",
       " Dr                8\n",
       " Col               4\n",
       " Major             2\n",
       " Mlle              2\n",
       " Ms                2\n",
       " Mme               1\n",
       " Dona              1\n",
       " Capt              1\n",
       " Lady              1\n",
       " the Countess      1\n",
       " Jonkheer          1\n",
       " Sir               1\n",
       " Don               1\n",
       "Name: Title, dtype: int64"
      ]
     },
     "execution_count": 40,
     "metadata": {},
     "output_type": "execute_result"
    }
   ],
   "source": [
    "combined.Title.value_counts()\n"
   ]
  },
  {
   "cell_type": "markdown",
   "id": "1412ffcc",
   "metadata": {},
   "source": [
    "Reducing the number of features by removing the less occuring titles with Others\n",
    "\n"
   ]
  },
  {
   "cell_type": "code",
   "execution_count": 41,
   "id": "883859db",
   "metadata": {},
   "outputs": [],
   "source": [
    "titles_ignore = [' Dona',' Don', ' Rev', ' Dr', ' Mme',' Major', ' Lady', ' Sir', ' Mlle', ' Col', ' Capt',' the Countess', ' Jonkheer']\n"
   ]
  },
  {
   "cell_type": "code",
   "execution_count": 42,
   "id": "cee1246c",
   "metadata": {},
   "outputs": [],
   "source": [
    "def title_change(x):\n",
    "    if x in titles_ignore:\n",
    "        return(\"Others\")\n",
    "    else:\n",
    "        return(x)\n",
    "    \n",
    "combined.Title.apply(title_change).unique()\n",
    "\n",
    "combined['Title'] = combined.Title.apply(title_change)\n",
    "\n",
    "combined['Title'] = combined['Title'].str.replace('Ms', 'Miss')"
   ]
  },
  {
   "cell_type": "code",
   "execution_count": 43,
   "id": "c55301e9",
   "metadata": {},
   "outputs": [
    {
     "data": {
      "text/plain": [
       " Mr        757\n",
       " Miss      262\n",
       " Mrs       197\n",
       " Master     61\n",
       "Others      32\n",
       "Name: Title, dtype: int64"
      ]
     },
     "execution_count": 43,
     "metadata": {},
     "output_type": "execute_result"
    }
   ],
   "source": [
    "combined.Title.value_counts()\n"
   ]
  },
  {
   "cell_type": "code",
   "execution_count": 44,
   "id": "258ae5cc",
   "metadata": {},
   "outputs": [
    {
     "data": {
      "text/html": [
       "<div>\n",
       "<style scoped>\n",
       "    .dataframe tbody tr th:only-of-type {\n",
       "        vertical-align: middle;\n",
       "    }\n",
       "\n",
       "    .dataframe tbody tr th {\n",
       "        vertical-align: top;\n",
       "    }\n",
       "\n",
       "    .dataframe thead th {\n",
       "        text-align: right;\n",
       "    }\n",
       "</style>\n",
       "<table border=\"1\" class=\"dataframe\">\n",
       "  <thead>\n",
       "    <tr style=\"text-align: right;\">\n",
       "      <th></th>\n",
       "      <th>PassengerId</th>\n",
       "      <th>Survived</th>\n",
       "      <th>Pclass</th>\n",
       "      <th>Name</th>\n",
       "      <th>Sex</th>\n",
       "      <th>Age</th>\n",
       "      <th>SibSp</th>\n",
       "      <th>Parch</th>\n",
       "      <th>Ticket</th>\n",
       "      <th>Fare</th>\n",
       "      <th>Cabin</th>\n",
       "      <th>Embarked</th>\n",
       "      <th>data</th>\n",
       "      <th>Title</th>\n",
       "    </tr>\n",
       "  </thead>\n",
       "  <tbody>\n",
       "    <tr>\n",
       "      <th>0</th>\n",
       "      <td>1</td>\n",
       "      <td>0.0</td>\n",
       "      <td>3</td>\n",
       "      <td>Braund, Mr. Owen Harris</td>\n",
       "      <td>male</td>\n",
       "      <td>22.0</td>\n",
       "      <td>1</td>\n",
       "      <td>0</td>\n",
       "      <td>A/5 21171</td>\n",
       "      <td>7.2500</td>\n",
       "      <td>NaN</td>\n",
       "      <td>S</td>\n",
       "      <td>train</td>\n",
       "      <td>Mr</td>\n",
       "    </tr>\n",
       "    <tr>\n",
       "      <th>1</th>\n",
       "      <td>2</td>\n",
       "      <td>1.0</td>\n",
       "      <td>1</td>\n",
       "      <td>Cumings, Mrs. John Bradley (Florence Briggs Th...</td>\n",
       "      <td>female</td>\n",
       "      <td>38.0</td>\n",
       "      <td>1</td>\n",
       "      <td>0</td>\n",
       "      <td>PC 17599</td>\n",
       "      <td>71.2833</td>\n",
       "      <td>C85</td>\n",
       "      <td>C</td>\n",
       "      <td>train</td>\n",
       "      <td>Mrs</td>\n",
       "    </tr>\n",
       "    <tr>\n",
       "      <th>2</th>\n",
       "      <td>3</td>\n",
       "      <td>1.0</td>\n",
       "      <td>3</td>\n",
       "      <td>Heikkinen, Miss. Laina</td>\n",
       "      <td>female</td>\n",
       "      <td>26.0</td>\n",
       "      <td>0</td>\n",
       "      <td>0</td>\n",
       "      <td>STON/O2. 3101282</td>\n",
       "      <td>7.9250</td>\n",
       "      <td>NaN</td>\n",
       "      <td>S</td>\n",
       "      <td>train</td>\n",
       "      <td>Miss</td>\n",
       "    </tr>\n",
       "    <tr>\n",
       "      <th>3</th>\n",
       "      <td>4</td>\n",
       "      <td>1.0</td>\n",
       "      <td>1</td>\n",
       "      <td>Futrelle, Mrs. Jacques Heath (Lily May Peel)</td>\n",
       "      <td>female</td>\n",
       "      <td>35.0</td>\n",
       "      <td>1</td>\n",
       "      <td>0</td>\n",
       "      <td>113803</td>\n",
       "      <td>53.1000</td>\n",
       "      <td>C123</td>\n",
       "      <td>S</td>\n",
       "      <td>train</td>\n",
       "      <td>Mrs</td>\n",
       "    </tr>\n",
       "    <tr>\n",
       "      <th>4</th>\n",
       "      <td>5</td>\n",
       "      <td>0.0</td>\n",
       "      <td>3</td>\n",
       "      <td>Allen, Mr. William Henry</td>\n",
       "      <td>male</td>\n",
       "      <td>35.0</td>\n",
       "      <td>0</td>\n",
       "      <td>0</td>\n",
       "      <td>373450</td>\n",
       "      <td>8.0500</td>\n",
       "      <td>NaN</td>\n",
       "      <td>S</td>\n",
       "      <td>train</td>\n",
       "      <td>Mr</td>\n",
       "    </tr>\n",
       "  </tbody>\n",
       "</table>\n",
       "</div>"
      ],
      "text/plain": [
       "   PassengerId  Survived  Pclass  \\\n",
       "0            1       0.0       3   \n",
       "1            2       1.0       1   \n",
       "2            3       1.0       3   \n",
       "3            4       1.0       1   \n",
       "4            5       0.0       3   \n",
       "\n",
       "                                                Name     Sex   Age  SibSp  \\\n",
       "0                            Braund, Mr. Owen Harris    male  22.0      1   \n",
       "1  Cumings, Mrs. John Bradley (Florence Briggs Th...  female  38.0      1   \n",
       "2                             Heikkinen, Miss. Laina  female  26.0      0   \n",
       "3       Futrelle, Mrs. Jacques Heath (Lily May Peel)  female  35.0      1   \n",
       "4                           Allen, Mr. William Henry    male  35.0      0   \n",
       "\n",
       "   Parch            Ticket     Fare Cabin Embarked   data  Title  \n",
       "0      0         A/5 21171   7.2500   NaN        S  train     Mr  \n",
       "1      0          PC 17599  71.2833   C85        C  train    Mrs  \n",
       "2      0  STON/O2. 3101282   7.9250   NaN        S  train   Miss  \n",
       "3      0            113803  53.1000  C123        S  train    Mrs  \n",
       "4      0            373450   8.0500   NaN        S  train     Mr  "
      ]
     },
     "execution_count": 44,
     "metadata": {},
     "output_type": "execute_result"
    }
   ],
   "source": [
    "combined.head()\n"
   ]
  },
  {
   "cell_type": "code",
   "execution_count": 45,
   "id": "62d8eda8",
   "metadata": {},
   "outputs": [],
   "source": [
    "# creating another feature \"family\" from \"SibSp\" and \"Parch\"\n",
    "\n",
    "combined['Family'] = combined['SibSp']+combined['Parch']+1"
   ]
  },
  {
   "cell_type": "code",
   "execution_count": 46,
   "id": "6d215f73",
   "metadata": {},
   "outputs": [],
   "source": [
    "def familycat(x):\n",
    "    if(x>4):\n",
    "        return('Large')\n",
    "    elif(x>=2):\n",
    "        return(\"Small\")\n",
    "    else:\n",
    "        return(\"Singles\")"
   ]
  },
  {
   "cell_type": "code",
   "execution_count": 47,
   "id": "f34b06fe",
   "metadata": {},
   "outputs": [],
   "source": [
    "combined['Family_Category'] = combined.Family.apply(familycat)"
   ]
  },
  {
   "cell_type": "code",
   "execution_count": 48,
   "id": "5a969798",
   "metadata": {},
   "outputs": [
    {
     "data": {
      "image/png": "[encoded data removed]",
      "text/plain": [
       "<Figure size 432x288 with 1 Axes>"
      ]
     },
     "metadata": {},
     "output_type": "display_data"
    }
   ],
   "source": [
    "combined.Family_Category.value_counts().plot(kind='pie',autopct='%1.2f%%')\n",
    "plt.show()"
   ]
  },
  {
   "cell_type": "code",
   "execution_count": 49,
   "id": "39c8bc9e",
   "metadata": {},
   "outputs": [
    {
     "data": {
      "text/html": [
       "<div>\n",
       "<style scoped>\n",
       "    .dataframe tbody tr th:only-of-type {\n",
       "        vertical-align: middle;\n",
       "    }\n",
       "\n",
       "    .dataframe tbody tr th {\n",
       "        vertical-align: top;\n",
       "    }\n",
       "\n",
       "    .dataframe thead th {\n",
       "        text-align: right;\n",
       "    }\n",
       "</style>\n",
       "<table border=\"1\" class=\"dataframe\">\n",
       "  <thead>\n",
       "    <tr style=\"text-align: right;\">\n",
       "      <th></th>\n",
       "      <th>PassengerId</th>\n",
       "      <th>Survived</th>\n",
       "      <th>Pclass</th>\n",
       "      <th>Name</th>\n",
       "      <th>Sex</th>\n",
       "      <th>Age</th>\n",
       "      <th>SibSp</th>\n",
       "      <th>Parch</th>\n",
       "      <th>Ticket</th>\n",
       "      <th>Fare</th>\n",
       "      <th>Cabin</th>\n",
       "      <th>Embarked</th>\n",
       "      <th>data</th>\n",
       "      <th>Title</th>\n",
       "      <th>Family</th>\n",
       "      <th>Family_Category</th>\n",
       "    </tr>\n",
       "  </thead>\n",
       "  <tbody>\n",
       "    <tr>\n",
       "      <th>0</th>\n",
       "      <td>1</td>\n",
       "      <td>0.0</td>\n",
       "      <td>3</td>\n",
       "      <td>Braund, Mr. Owen Harris</td>\n",
       "      <td>male</td>\n",
       "      <td>22.0</td>\n",
       "      <td>1</td>\n",
       "      <td>0</td>\n",
       "      <td>A/5 21171</td>\n",
       "      <td>7.2500</td>\n",
       "      <td>NaN</td>\n",
       "      <td>S</td>\n",
       "      <td>train</td>\n",
       "      <td>Mr</td>\n",
       "      <td>2</td>\n",
       "      <td>Small</td>\n",
       "    </tr>\n",
       "    <tr>\n",
       "      <th>1</th>\n",
       "      <td>2</td>\n",
       "      <td>1.0</td>\n",
       "      <td>1</td>\n",
       "      <td>Cumings, Mrs. John Bradley (Florence Briggs Th...</td>\n",
       "      <td>female</td>\n",
       "      <td>38.0</td>\n",
       "      <td>1</td>\n",
       "      <td>0</td>\n",
       "      <td>PC 17599</td>\n",
       "      <td>71.2833</td>\n",
       "      <td>C85</td>\n",
       "      <td>C</td>\n",
       "      <td>train</td>\n",
       "      <td>Mrs</td>\n",
       "      <td>2</td>\n",
       "      <td>Small</td>\n",
       "    </tr>\n",
       "    <tr>\n",
       "      <th>2</th>\n",
       "      <td>3</td>\n",
       "      <td>1.0</td>\n",
       "      <td>3</td>\n",
       "      <td>Heikkinen, Miss. Laina</td>\n",
       "      <td>female</td>\n",
       "      <td>26.0</td>\n",
       "      <td>0</td>\n",
       "      <td>0</td>\n",
       "      <td>STON/O2. 3101282</td>\n",
       "      <td>7.9250</td>\n",
       "      <td>NaN</td>\n",
       "      <td>S</td>\n",
       "      <td>train</td>\n",
       "      <td>Miss</td>\n",
       "      <td>1</td>\n",
       "      <td>Singles</td>\n",
       "    </tr>\n",
       "    <tr>\n",
       "      <th>3</th>\n",
       "      <td>4</td>\n",
       "      <td>1.0</td>\n",
       "      <td>1</td>\n",
       "      <td>Futrelle, Mrs. Jacques Heath (Lily May Peel)</td>\n",
       "      <td>female</td>\n",
       "      <td>35.0</td>\n",
       "      <td>1</td>\n",
       "      <td>0</td>\n",
       "      <td>113803</td>\n",
       "      <td>53.1000</td>\n",
       "      <td>C123</td>\n",
       "      <td>S</td>\n",
       "      <td>train</td>\n",
       "      <td>Mrs</td>\n",
       "      <td>2</td>\n",
       "      <td>Small</td>\n",
       "    </tr>\n",
       "    <tr>\n",
       "      <th>4</th>\n",
       "      <td>5</td>\n",
       "      <td>0.0</td>\n",
       "      <td>3</td>\n",
       "      <td>Allen, Mr. William Henry</td>\n",
       "      <td>male</td>\n",
       "      <td>35.0</td>\n",
       "      <td>0</td>\n",
       "      <td>0</td>\n",
       "      <td>373450</td>\n",
       "      <td>8.0500</td>\n",
       "      <td>NaN</td>\n",
       "      <td>S</td>\n",
       "      <td>train</td>\n",
       "      <td>Mr</td>\n",
       "      <td>1</td>\n",
       "      <td>Singles</td>\n",
       "    </tr>\n",
       "  </tbody>\n",
       "</table>\n",
       "</div>"
      ],
      "text/plain": [
       "   PassengerId  Survived  Pclass  \\\n",
       "0            1       0.0       3   \n",
       "1            2       1.0       1   \n",
       "2            3       1.0       3   \n",
       "3            4       1.0       1   \n",
       "4            5       0.0       3   \n",
       "\n",
       "                                                Name     Sex   Age  SibSp  \\\n",
       "0                            Braund, Mr. Owen Harris    male  22.0      1   \n",
       "1  Cumings, Mrs. John Bradley (Florence Briggs Th...  female  38.0      1   \n",
       "2                             Heikkinen, Miss. Laina  female  26.0      0   \n",
       "3       Futrelle, Mrs. Jacques Heath (Lily May Peel)  female  35.0      1   \n",
       "4                           Allen, Mr. William Henry    male  35.0      0   \n",
       "\n",
       "   Parch            Ticket     Fare Cabin Embarked   data  Title  Family  \\\n",
       "0      0         A/5 21171   7.2500   NaN        S  train     Mr       2   \n",
       "1      0          PC 17599  71.2833   C85        C  train    Mrs       2   \n",
       "2      0  STON/O2. 3101282   7.9250   NaN        S  train   Miss       1   \n",
       "3      0            113803  53.1000  C123        S  train    Mrs       2   \n",
       "4      0            373450   8.0500   NaN        S  train     Mr       1   \n",
       "\n",
       "  Family_Category  \n",
       "0           Small  \n",
       "1           Small  \n",
       "2         Singles  \n",
       "3           Small  \n",
       "4         Singles  "
      ]
     },
     "execution_count": 49,
     "metadata": {},
     "output_type": "execute_result"
    }
   ],
   "source": [
    "combined.head()\n"
   ]
  },
  {
   "cell_type": "code",
   "execution_count": 50,
   "id": "475021c5",
   "metadata": {},
   "outputs": [
    {
     "data": {
      "text/plain": [
       "PassengerId           0\n",
       "Survived            418\n",
       "Pclass                0\n",
       "Name                  0\n",
       "Sex                   0\n",
       "Age                 263\n",
       "SibSp                 0\n",
       "Parch                 0\n",
       "Ticket                0\n",
       "Fare                  1\n",
       "Cabin              1014\n",
       "Embarked              2\n",
       "data                  0\n",
       "Title                 0\n",
       "Family                0\n",
       "Family_Category       0\n",
       "dtype: int64"
      ]
     },
     "execution_count": 50,
     "metadata": {},
     "output_type": "execute_result"
    }
   ],
   "source": [
    "#Missing values\n",
    "\n",
    "combined.isna().sum()"
   ]
  },
  {
   "cell_type": "markdown",
   "id": "fb3239f1",
   "metadata": {},
   "source": [
    "In the cabin feature there are 1014 null values out of the 1309 values i.e 77% of the values are null.So we can drop the feature\n",
    "\n"
   ]
  },
  {
   "cell_type": "code",
   "execution_count": 51,
   "id": "cb382254",
   "metadata": {},
   "outputs": [],
   "source": [
    "combined.drop('Cabin',axis=1,inplace= True)\n"
   ]
  },
  {
   "cell_type": "code",
   "execution_count": 52,
   "id": "13659f70",
   "metadata": {},
   "outputs": [],
   "source": [
    "#Filling the missing values in age\n",
    "\n",
    "combined['age_bins'] = pd.cut(x=combined['Age'], bins=[0,13,19,40,60,80])"
   ]
  },
  {
   "cell_type": "code",
   "execution_count": 53,
   "id": "1a9c7c04",
   "metadata": {},
   "outputs": [
    {
     "name": "stdout",
     "output_type": "stream",
     "text": [
      "Frequency distribution of the customers: \n",
      " age_bins\n",
      "(0, 13]      99\n",
      "(13, 19]    126\n",
      "(19, 40]    594\n",
      "(40, 60]    194\n",
      "(60, 80]     33\n",
      "Name: Age, dtype: int64\n"
     ]
    }
   ],
   "source": [
    "a = combined.groupby('age_bins').count()['Age']\n",
    "print('Frequency distribution of the customers: \\n',a)"
   ]
  },
  {
   "cell_type": "code",
   "execution_count": 54,
   "id": "ff82f2db",
   "metadata": {},
   "outputs": [
    {
     "name": "stdout",
     "output_type": "stream",
     "text": [
      "Median values: Title\n",
      " Master     4.0\n",
      " Miss      22.0\n",
      " Mr        29.0\n",
      " Mrs       35.5\n",
      "Others     45.0\n",
      "Name: Age, dtype: float64\n",
      "\n",
      " Mean values: Title\n",
      " Master     5.482642\n",
      " Miss      21.803744\n",
      " Mr        32.252151\n",
      " Mrs       36.994118\n",
      "Others     43.129032\n",
      "Name: Age, dtype: float64\n"
     ]
    }
   ],
   "source": [
    "print('Median values:',combined.groupby('Title').median()['Age'])\n",
    "print('\\n Mean values:',combined.groupby('Title').mean()['Age'])"
   ]
  },
  {
   "cell_type": "code",
   "execution_count": 55,
   "id": "329e8c9d",
   "metadata": {},
   "outputs": [
    {
     "data": {
      "text/plain": [
       "0"
      ]
     },
     "execution_count": 55,
     "metadata": {},
     "output_type": "execute_result"
    }
   ],
   "source": [
    "#Filling the null values in the Age feature based on the mean age of each of the title\n",
    "\n",
    "def impute_age(cols):\n",
    "    Age = cols[0]\n",
    "    Title = cols[1]\n",
    "    \n",
    "    if pd.isnull(Age):\n",
    "        \n",
    "        if Title == 'Master':\n",
    "            return 5\n",
    "        elif Title == 'Miss':\n",
    "            return 22\n",
    "        elif Title == 'Mr':\n",
    "            return 32\n",
    "        elif Title == 'Mrs':\n",
    "            return 37\n",
    "        elif Title == 'Ms':\n",
    "            return 28\n",
    "        else:\n",
    "            return 43\n",
    "    else:\n",
    "        return Age\n",
    "\n",
    "combined['Age']=combined[['Age','Title']].apply(impute_age,axis=1)\n",
    "\n",
    "combined.Age.isnull().sum()"
   ]
  },
  {
   "cell_type": "code",
   "execution_count": 56,
   "id": "16e37f8f",
   "metadata": {},
   "outputs": [
    {
     "data": {
      "text/plain": [
       "PassengerId          0\n",
       "Survived           418\n",
       "Pclass               0\n",
       "Name                 0\n",
       "Sex                  0\n",
       "Age                  0\n",
       "SibSp                0\n",
       "Parch                0\n",
       "Ticket               0\n",
       "Fare                 1\n",
       "Embarked             2\n",
       "data                 0\n",
       "Title                0\n",
       "Family               0\n",
       "Family_Category      0\n",
       "age_bins           263\n",
       "dtype: int64"
      ]
     },
     "execution_count": 56,
     "metadata": {},
     "output_type": "execute_result"
    }
   ],
   "source": [
    "combined.isna().sum()\n"
   ]
  },
  {
   "cell_type": "code",
   "execution_count": 57,
   "id": "aa206547",
   "metadata": {},
   "outputs": [
    {
     "data": {
      "text/html": [
       "<div>\n",
       "<style scoped>\n",
       "    .dataframe tbody tr th:only-of-type {\n",
       "        vertical-align: middle;\n",
       "    }\n",
       "\n",
       "    .dataframe tbody tr th {\n",
       "        vertical-align: top;\n",
       "    }\n",
       "\n",
       "    .dataframe thead th {\n",
       "        text-align: right;\n",
       "    }\n",
       "</style>\n",
       "<table border=\"1\" class=\"dataframe\">\n",
       "  <thead>\n",
       "    <tr style=\"text-align: right;\">\n",
       "      <th></th>\n",
       "      <th>PassengerId</th>\n",
       "      <th>Survived</th>\n",
       "      <th>Pclass</th>\n",
       "      <th>Name</th>\n",
       "      <th>Sex</th>\n",
       "      <th>Age</th>\n",
       "      <th>SibSp</th>\n",
       "      <th>Parch</th>\n",
       "      <th>Ticket</th>\n",
       "      <th>Fare</th>\n",
       "      <th>Embarked</th>\n",
       "      <th>data</th>\n",
       "      <th>Title</th>\n",
       "      <th>Family</th>\n",
       "      <th>Family_Category</th>\n",
       "      <th>age_bins</th>\n",
       "    </tr>\n",
       "  </thead>\n",
       "  <tbody>\n",
       "    <tr>\n",
       "      <th>1043</th>\n",
       "      <td>1044</td>\n",
       "      <td>NaN</td>\n",
       "      <td>3</td>\n",
       "      <td>Storey, Mr. Thomas</td>\n",
       "      <td>male</td>\n",
       "      <td>60.5</td>\n",
       "      <td>0</td>\n",
       "      <td>0</td>\n",
       "      <td>3701</td>\n",
       "      <td>NaN</td>\n",
       "      <td>S</td>\n",
       "      <td>test</td>\n",
       "      <td>Mr</td>\n",
       "      <td>1</td>\n",
       "      <td>Singles</td>\n",
       "      <td>(60, 80]</td>\n",
       "    </tr>\n",
       "  </tbody>\n",
       "</table>\n",
       "</div>"
      ],
      "text/plain": [
       "      PassengerId  Survived  Pclass                Name   Sex   Age  SibSp  \\\n",
       "1043         1044       NaN       3  Storey, Mr. Thomas  male  60.5      0   \n",
       "\n",
       "      Parch Ticket  Fare Embarked  data Title  Family Family_Category  \\\n",
       "1043      0   3701   NaN        S  test    Mr       1         Singles   \n",
       "\n",
       "      age_bins  \n",
       "1043  (60, 80]  "
      ]
     },
     "execution_count": 57,
     "metadata": {},
     "output_type": "execute_result"
    }
   ],
   "source": [
    "#Missing value in Fare\n",
    "\n",
    "combined[combined['Fare'].isnull()]"
   ]
  },
  {
   "cell_type": "markdown",
   "id": "ae43379f",
   "metadata": {},
   "source": [
    "The passenger whose fare value is missing is travelling in pclass 3, from the heatmap we could clearly see that fare is highly correlated to Pclass\n",
    "\n",
    "So filling the fare values based on the average fare of a person belonging to Pclass 3"
   ]
  },
  {
   "cell_type": "code",
   "execution_count": 58,
   "id": "7b5e23f2",
   "metadata": {},
   "outputs": [
    {
     "data": {
      "text/plain": [
       "Pclass\n",
       "1    87.508992\n",
       "2    21.179196\n",
       "3    13.302889\n",
       "Name: Fare, dtype: float64"
      ]
     },
     "execution_count": 58,
     "metadata": {},
     "output_type": "execute_result"
    }
   ],
   "source": [
    "combined.groupby('Pclass').mean()['Fare']\n"
   ]
  },
  {
   "cell_type": "code",
   "execution_count": 59,
   "id": "929b962c",
   "metadata": {},
   "outputs": [],
   "source": [
    "combined.Fare.fillna(value=13.30,inplace=True)\n"
   ]
  },
  {
   "cell_type": "code",
   "execution_count": 60,
   "id": "f23ae4ab",
   "metadata": {},
   "outputs": [],
   "source": [
    "#missing values in Embarked\n",
    "\n",
    "#As we saw that maximum passengers boarded from Port S, we replace NaN with S.\n",
    "\n",
    "combined.Embarked.fillna(value='S',inplace=True)"
   ]
  },
  {
   "cell_type": "code",
   "execution_count": 61,
   "id": "a2bcae80",
   "metadata": {},
   "outputs": [
    {
     "data": {
      "text/plain": [
       "PassengerId          0\n",
       "Survived           418\n",
       "Pclass               0\n",
       "Name                 0\n",
       "Sex                  0\n",
       "Age                  0\n",
       "SibSp                0\n",
       "Parch                0\n",
       "Ticket               0\n",
       "Fare                 0\n",
       "Embarked             0\n",
       "data                 0\n",
       "Title                0\n",
       "Family               0\n",
       "Family_Category      0\n",
       "age_bins           263\n",
       "dtype: int64"
      ]
     },
     "execution_count": 61,
     "metadata": {},
     "output_type": "execute_result"
    }
   ],
   "source": [
    "combined.isna().sum()\n"
   ]
  },
  {
   "cell_type": "markdown",
   "id": "fa23fa3b",
   "metadata": {},
   "source": [
    "# Dropping UnNeeded Features:"
   ]
  },
  {
   "cell_type": "markdown",
   "id": "abcea501",
   "metadata": {},
   "source": [
    "Name,Ticket,PassengerId,age_bins,Family,Sibsp,Parch beacuse these features either contain unique values or new features have been created using them"
   ]
  },
  {
   "cell_type": "code",
   "execution_count": 63,
   "id": "0c77a65f",
   "metadata": {},
   "outputs": [],
   "source": [
    "combined.drop(['Name','Ticket','age_bins','Family','SibSp','Parch'],axis=1,inplace=True)"
   ]
  },
  {
   "cell_type": "code",
   "execution_count": 64,
   "id": "7bf863a2",
   "metadata": {},
   "outputs": [
    {
     "data": {
      "text/html": [
       "<div>\n",
       "<style scoped>\n",
       "    .dataframe tbody tr th:only-of-type {\n",
       "        vertical-align: middle;\n",
       "    }\n",
       "\n",
       "    .dataframe tbody tr th {\n",
       "        vertical-align: top;\n",
       "    }\n",
       "\n",
       "    .dataframe thead th {\n",
       "        text-align: right;\n",
       "    }\n",
       "</style>\n",
       "<table border=\"1\" class=\"dataframe\">\n",
       "  <thead>\n",
       "    <tr style=\"text-align: right;\">\n",
       "      <th></th>\n",
       "      <th>PassengerId</th>\n",
       "      <th>Survived</th>\n",
       "      <th>Pclass</th>\n",
       "      <th>Sex</th>\n",
       "      <th>Age</th>\n",
       "      <th>Fare</th>\n",
       "      <th>Embarked</th>\n",
       "      <th>data</th>\n",
       "      <th>Title</th>\n",
       "      <th>Family_Category</th>\n",
       "    </tr>\n",
       "  </thead>\n",
       "  <tbody>\n",
       "    <tr>\n",
       "      <th>0</th>\n",
       "      <td>1</td>\n",
       "      <td>0.0</td>\n",
       "      <td>3</td>\n",
       "      <td>male</td>\n",
       "      <td>22.0</td>\n",
       "      <td>7.2500</td>\n",
       "      <td>S</td>\n",
       "      <td>train</td>\n",
       "      <td>Mr</td>\n",
       "      <td>Small</td>\n",
       "    </tr>\n",
       "    <tr>\n",
       "      <th>1</th>\n",
       "      <td>2</td>\n",
       "      <td>1.0</td>\n",
       "      <td>1</td>\n",
       "      <td>female</td>\n",
       "      <td>38.0</td>\n",
       "      <td>71.2833</td>\n",
       "      <td>C</td>\n",
       "      <td>train</td>\n",
       "      <td>Mrs</td>\n",
       "      <td>Small</td>\n",
       "    </tr>\n",
       "    <tr>\n",
       "      <th>2</th>\n",
       "      <td>3</td>\n",
       "      <td>1.0</td>\n",
       "      <td>3</td>\n",
       "      <td>female</td>\n",
       "      <td>26.0</td>\n",
       "      <td>7.9250</td>\n",
       "      <td>S</td>\n",
       "      <td>train</td>\n",
       "      <td>Miss</td>\n",
       "      <td>Singles</td>\n",
       "    </tr>\n",
       "    <tr>\n",
       "      <th>3</th>\n",
       "      <td>4</td>\n",
       "      <td>1.0</td>\n",
       "      <td>1</td>\n",
       "      <td>female</td>\n",
       "      <td>35.0</td>\n",
       "      <td>53.1000</td>\n",
       "      <td>S</td>\n",
       "      <td>train</td>\n",
       "      <td>Mrs</td>\n",
       "      <td>Small</td>\n",
       "    </tr>\n",
       "    <tr>\n",
       "      <th>4</th>\n",
       "      <td>5</td>\n",
       "      <td>0.0</td>\n",
       "      <td>3</td>\n",
       "      <td>male</td>\n",
       "      <td>35.0</td>\n",
       "      <td>8.0500</td>\n",
       "      <td>S</td>\n",
       "      <td>train</td>\n",
       "      <td>Mr</td>\n",
       "      <td>Singles</td>\n",
       "    </tr>\n",
       "  </tbody>\n",
       "</table>\n",
       "</div>"
      ],
      "text/plain": [
       "   PassengerId  Survived  Pclass     Sex   Age     Fare Embarked   data  \\\n",
       "0            1       0.0       3    male  22.0   7.2500        S  train   \n",
       "1            2       1.0       1  female  38.0  71.2833        C  train   \n",
       "2            3       1.0       3  female  26.0   7.9250        S  train   \n",
       "3            4       1.0       1  female  35.0  53.1000        S  train   \n",
       "4            5       0.0       3    male  35.0   8.0500        S  train   \n",
       "\n",
       "   Title Family_Category  \n",
       "0     Mr           Small  \n",
       "1    Mrs           Small  \n",
       "2   Miss         Singles  \n",
       "3    Mrs           Small  \n",
       "4     Mr         Singles  "
      ]
     },
     "execution_count": 64,
     "metadata": {},
     "output_type": "execute_result"
    }
   ],
   "source": [
    "combined.head()\n"
   ]
  },
  {
   "cell_type": "code",
   "execution_count": 65,
   "id": "d74d6318",
   "metadata": {},
   "outputs": [],
   "source": [
    "#Encoding String Values to Numeric values\n",
    "\n",
    "combined = pd.get_dummies(combined,columns=['Sex','Embarked','Title','Family_Category'],drop_first = True)"
   ]
  },
  {
   "cell_type": "code",
   "execution_count": 66,
   "id": "3ba7a30f",
   "metadata": {},
   "outputs": [
    {
     "data": {
      "text/html": [
       "<div>\n",
       "<style scoped>\n",
       "    .dataframe tbody tr th:only-of-type {\n",
       "        vertical-align: middle;\n",
       "    }\n",
       "\n",
       "    .dataframe tbody tr th {\n",
       "        vertical-align: top;\n",
       "    }\n",
       "\n",
       "    .dataframe thead th {\n",
       "        text-align: right;\n",
       "    }\n",
       "</style>\n",
       "<table border=\"1\" class=\"dataframe\">\n",
       "  <thead>\n",
       "    <tr style=\"text-align: right;\">\n",
       "      <th></th>\n",
       "      <th>PassengerId</th>\n",
       "      <th>Survived</th>\n",
       "      <th>Pclass</th>\n",
       "      <th>Age</th>\n",
       "      <th>Fare</th>\n",
       "      <th>data</th>\n",
       "      <th>Sex_male</th>\n",
       "      <th>Embarked_Q</th>\n",
       "      <th>Embarked_S</th>\n",
       "      <th>Title_ Miss</th>\n",
       "      <th>Title_ Mr</th>\n",
       "      <th>Title_ Mrs</th>\n",
       "      <th>Title_Others</th>\n",
       "      <th>Family_Category_Singles</th>\n",
       "      <th>Family_Category_Small</th>\n",
       "    </tr>\n",
       "  </thead>\n",
       "  <tbody>\n",
       "    <tr>\n",
       "      <th>0</th>\n",
       "      <td>1</td>\n",
       "      <td>0.0</td>\n",
       "      <td>3</td>\n",
       "      <td>22.0</td>\n",
       "      <td>7.2500</td>\n",
       "      <td>train</td>\n",
       "      <td>1</td>\n",
       "      <td>0</td>\n",
       "      <td>1</td>\n",
       "      <td>0</td>\n",
       "      <td>1</td>\n",
       "      <td>0</td>\n",
       "      <td>0</td>\n",
       "      <td>0</td>\n",
       "      <td>1</td>\n",
       "    </tr>\n",
       "    <tr>\n",
       "      <th>1</th>\n",
       "      <td>2</td>\n",
       "      <td>1.0</td>\n",
       "      <td>1</td>\n",
       "      <td>38.0</td>\n",
       "      <td>71.2833</td>\n",
       "      <td>train</td>\n",
       "      <td>0</td>\n",
       "      <td>0</td>\n",
       "      <td>0</td>\n",
       "      <td>0</td>\n",
       "      <td>0</td>\n",
       "      <td>1</td>\n",
       "      <td>0</td>\n",
       "      <td>0</td>\n",
       "      <td>1</td>\n",
       "    </tr>\n",
       "    <tr>\n",
       "      <th>2</th>\n",
       "      <td>3</td>\n",
       "      <td>1.0</td>\n",
       "      <td>3</td>\n",
       "      <td>26.0</td>\n",
       "      <td>7.9250</td>\n",
       "      <td>train</td>\n",
       "      <td>0</td>\n",
       "      <td>0</td>\n",
       "      <td>1</td>\n",
       "      <td>1</td>\n",
       "      <td>0</td>\n",
       "      <td>0</td>\n",
       "      <td>0</td>\n",
       "      <td>1</td>\n",
       "      <td>0</td>\n",
       "    </tr>\n",
       "    <tr>\n",
       "      <th>3</th>\n",
       "      <td>4</td>\n",
       "      <td>1.0</td>\n",
       "      <td>1</td>\n",
       "      <td>35.0</td>\n",
       "      <td>53.1000</td>\n",
       "      <td>train</td>\n",
       "      <td>0</td>\n",
       "      <td>0</td>\n",
       "      <td>1</td>\n",
       "      <td>0</td>\n",
       "      <td>0</td>\n",
       "      <td>1</td>\n",
       "      <td>0</td>\n",
       "      <td>0</td>\n",
       "      <td>1</td>\n",
       "    </tr>\n",
       "    <tr>\n",
       "      <th>4</th>\n",
       "      <td>5</td>\n",
       "      <td>0.0</td>\n",
       "      <td>3</td>\n",
       "      <td>35.0</td>\n",
       "      <td>8.0500</td>\n",
       "      <td>train</td>\n",
       "      <td>1</td>\n",
       "      <td>0</td>\n",
       "      <td>1</td>\n",
       "      <td>0</td>\n",
       "      <td>1</td>\n",
       "      <td>0</td>\n",
       "      <td>0</td>\n",
       "      <td>1</td>\n",
       "      <td>0</td>\n",
       "    </tr>\n",
       "  </tbody>\n",
       "</table>\n",
       "</div>"
      ],
      "text/plain": [
       "   PassengerId  Survived  Pclass   Age     Fare   data  Sex_male  Embarked_Q  \\\n",
       "0            1       0.0       3  22.0   7.2500  train         1           0   \n",
       "1            2       1.0       1  38.0  71.2833  train         0           0   \n",
       "2            3       1.0       3  26.0   7.9250  train         0           0   \n",
       "3            4       1.0       1  35.0  53.1000  train         0           0   \n",
       "4            5       0.0       3  35.0   8.0500  train         1           0   \n",
       "\n",
       "   Embarked_S  Title_ Miss  Title_ Mr  Title_ Mrs  Title_Others  \\\n",
       "0           1            0          1           0             0   \n",
       "1           0            0          0           1             0   \n",
       "2           1            1          0           0             0   \n",
       "3           1            0          0           1             0   \n",
       "4           1            0          1           0             0   \n",
       "\n",
       "   Family_Category_Singles  Family_Category_Small  \n",
       "0                        0                      1  \n",
       "1                        0                      1  \n",
       "2                        1                      0  \n",
       "3                        0                      1  \n",
       "4                        1                      0  "
      ]
     },
     "execution_count": 66,
     "metadata": {},
     "output_type": "execute_result"
    }
   ],
   "source": [
    "combined.head()\n"
   ]
  },
  {
   "cell_type": "code",
   "execution_count": 67,
   "id": "93c943f3",
   "metadata": {},
   "outputs": [
    {
     "name": "stdout",
     "output_type": "stream",
     "text": [
      "<class 'pandas.core.frame.DataFrame'>\n",
      "RangeIndex: 1309 entries, 0 to 1308\n",
      "Data columns (total 15 columns):\n",
      " #   Column                   Non-Null Count  Dtype  \n",
      "---  ------                   --------------  -----  \n",
      " 0   PassengerId              1309 non-null   int64  \n",
      " 1   Survived                 891 non-null    float64\n",
      " 2   Pclass                   1309 non-null   int64  \n",
      " 3   Age                      1309 non-null   float64\n",
      " 4   Fare                     1309 non-null   float64\n",
      " 5   data                     1309 non-null   object \n",
      " 6   Sex_male                 1309 non-null   uint8  \n",
      " 7   Embarked_Q               1309 non-null   uint8  \n",
      " 8   Embarked_S               1309 non-null   uint8  \n",
      " 9   Title_ Miss              1309 non-null   uint8  \n",
      " 10  Title_ Mr                1309 non-null   uint8  \n",
      " 11  Title_ Mrs               1309 non-null   uint8  \n",
      " 12  Title_Others             1309 non-null   uint8  \n",
      " 13  Family_Category_Singles  1309 non-null   uint8  \n",
      " 14  Family_Category_Small    1309 non-null   uint8  \n",
      "dtypes: float64(3), int64(2), object(1), uint8(9)\n",
      "memory usage: 73.0+ KB\n"
     ]
    }
   ],
   "source": [
    "combined.info()\n"
   ]
  },
  {
   "cell_type": "code",
   "execution_count": 68,
   "id": "49feda71",
   "metadata": {},
   "outputs": [
    {
     "name": "stderr",
     "output_type": "stream",
     "text": [
      "C:\\Users\\Arvind Sain\\anaconda3\\lib\\site-packages\\pandas\\core\\frame.py:4308: SettingWithCopyWarning: \n",
      "A value is trying to be set on a copy of a slice from a DataFrame\n",
      "\n",
      "See the caveats in the documentation: https://pandas.pydata.org/pandas-docs/stable/user_guide/indexing.html#returning-a-view-versus-a-copy\n",
      "  return super().drop(\n"
     ]
    }
   ],
   "source": [
    "#splitting the data back into train and test as it was already provided\n",
    "\n",
    "train = combined[combined['data']=='train']\n",
    "train.drop(['data','PassengerId'],axis=1,inplace=True)\n",
    "\n",
    "test = combined[combined['data']=='test']\n",
    "submit = test['PassengerId']\n",
    "test.drop(['Survived','data','PassengerId'],axis=1,inplace=True)\n",
    "\n",
    "del combined"
   ]
  },
  {
   "cell_type": "code",
   "execution_count": 69,
   "id": "d91f7ea3",
   "metadata": {},
   "outputs": [],
   "source": [
    "#For submission\n",
    "\n",
    "submission = pd.DataFrame()\n",
    "submission['PassengerId'] = submit\n",
    "submission['Survived'] = np.nan"
   ]
  },
  {
   "cell_type": "markdown",
   "id": "4386ef57",
   "metadata": {},
   "source": [
    "# Model building"
   ]
  },
  {
   "cell_type": "code",
   "execution_count": 70,
   "id": "d5b43802",
   "metadata": {},
   "outputs": [],
   "source": [
    "train[\"Survived\"] = train[\"Survived\"].astype(int)\n",
    "\n",
    "y = train[\"Survived\"]\n",
    "X = train.drop(labels = [\"Survived\"],axis = 1)\n",
    "\n",
    "#train test split for model building\n",
    "from sklearn.model_selection import train_test_split\n",
    "\n",
    "X_train,X_test,y_train,y_test = train_test_split(X,y,test_size=0.30,random_state=0)"
   ]
  },
  {
   "cell_type": "code",
   "execution_count": 71,
   "id": "bc6f34f3",
   "metadata": {},
   "outputs": [],
   "source": [
    "#scaling the data\n",
    "from sklearn.preprocessing import StandardScaler\n",
    "\n",
    "ss = StandardScaler()\n",
    "\n",
    "X_train = ss.fit_transform(X_train)\n",
    "X_test = ss.transform(X_test)"
   ]
  },
  {
   "cell_type": "markdown",
   "id": "16a38115",
   "metadata": {},
   "source": [
    "# Logistic Regression"
   ]
  },
  {
   "cell_type": "code",
   "execution_count": 72,
   "id": "45898be8",
   "metadata": {},
   "outputs": [],
   "source": [
    "from sklearn.linear_model import LogisticRegression\n",
    "from sklearn.metrics import confusion_matrix , accuracy_score, roc_auc_score,roc_curve,classification_report"
   ]
  },
  {
   "cell_type": "code",
   "execution_count": 73,
   "id": "f5dccdcb",
   "metadata": {},
   "outputs": [
    {
     "name": "stdout",
     "output_type": "stream",
     "text": [
      "Accuracy_score: 0.8246268656716418\n"
     ]
    }
   ],
   "source": [
    "lr = LogisticRegression(solver='liblinear',random_state=3)\n",
    "lr.fit(X_train,y_train)\n",
    "\n",
    "y_test_pred = lr.predict(X_test)\n",
    "\n",
    "print('Accuracy_score:',accuracy_score(y_test,y_test_pred))"
   ]
  },
  {
   "cell_type": "code",
   "execution_count": 74,
   "id": "53b50d7c",
   "metadata": {},
   "outputs": [
    {
     "name": "stdout",
     "output_type": "stream",
     "text": [
      "[0.80952381 0.84126984 0.80952381 0.80645161 0.83870968 0.80645161\n",
      " 0.80645161 0.82258065 0.85483871 0.88709677]\n",
      "\n",
      " The mean score we got from 10-Fold CV: 0.8282898105478751\n"
     ]
    }
   ],
   "source": [
    "#OR \n",
    "#CV\n",
    "from sklearn import model_selection\n",
    "\n",
    "scoresdt = model_selection.cross_val_score(lr, X_train, y_train, cv=10)\n",
    "print(scoresdt)\n",
    "\n",
    "print('\\n The mean score we got from 10-Fold CV:',np.mean(scoresdt))"
   ]
  },
  {
   "cell_type": "markdown",
   "id": "4398a374",
   "metadata": {},
   "source": [
    "Accuracy is out of all the classes, how much we predicted correctly.\n",
    "\n",
    "Accuracy is a great measure but only when you have symmetric datasets.In this dataset the target variable is imbalanced so looking into the classification report"
   ]
  },
  {
   "cell_type": "code",
   "execution_count": 75,
   "id": "0bcf6cb5",
   "metadata": {},
   "outputs": [
    {
     "name": "stdout",
     "output_type": "stream",
     "text": [
      "              precision    recall  f1-score   support\n",
      "\n",
      "           0       0.86      0.86      0.86       168\n",
      "           1       0.76      0.77      0.77       100\n",
      "\n",
      "    accuracy                           0.82       268\n",
      "   macro avg       0.81      0.81      0.81       268\n",
      "weighted avg       0.82      0.82      0.82       268\n",
      "\n"
     ]
    }
   ],
   "source": [
    "#Classification Report\n",
    "\n",
    "print(classification_report(y_test,y_test_pred))"
   ]
  },
  {
   "cell_type": "markdown",
   "id": "28ed34af",
   "metadata": {},
   "source": [
    "Precision: Out of all the positive classes we have predicted correctly, how many are actually positive.\n",
    "\n",
    "Recall: Out of all the positive classes, how much we predicted correctly. It should be high as possible.\n",
    "\n",
    "F-measure: It is difficult to compare two models with low precision and high recall or vice versa. So to make them comparable, we use F-Score. F-score helps to measure Recall and Precision at the same time. It uses Harmonic Mean in place of Arithmetic Mean by punishing the extreme values more."
   ]
  },
  {
   "cell_type": "markdown",
   "id": "46ea2a12",
   "metadata": {},
   "source": [
    "AUC Score"
   ]
  },
  {
   "cell_type": "code",
   "execution_count": 76,
   "id": "94cf4787",
   "metadata": {},
   "outputs": [
    {
     "name": "stdout",
     "output_type": "stream",
     "text": [
      "AUC: 0.8822619047619048\n"
     ]
    }
   ],
   "source": [
    "y_test_prob = lr.predict_proba(X_test)[:,1]\n",
    "\n",
    "print('AUC:',roc_auc_score(y_test,y_test_prob))"
   ]
  },
  {
   "cell_type": "markdown",
   "id": "5ce517f2",
   "metadata": {},
   "source": [
    "AUC curve\n",
    "\n",
    "True Positive Rate / Recall: TPR tells us what proportion of the positive class got correctly classified.\n",
    "\n",
    "False Positive Rate: FPR tells us what proportion of the negative class got incorrectly classified by the classifier.\n",
    "\n",
    "The Receiver Operator Characteristic (ROC) curve is an evaluation metric for binary classification problems. It is a probability curve that plots the TPR against FPR at various threshold values and essentially separates the ‘signal’ from the ‘noise’."
   ]
  },
  {
   "cell_type": "code",
   "execution_count": 77,
   "id": "ca7a51c9",
   "metadata": {},
   "outputs": [],
   "source": [
    "fpr,tpr,thresholds = roc_curve(y_test,y_test_prob) #thresholds here are the cutoffs\n"
   ]
  },
  {
   "cell_type": "code",
   "execution_count": 78,
   "id": "a4f910ae",
   "metadata": {},
   "outputs": [
    {
     "data": {
      "image/png": "[encoded data removed]",
      "text/plain": [
       "<Figure size 432x288 with 1 Axes>"
      ]
     },
     "metadata": {
      "needs_background": "light"
     },
     "output_type": "display_data"
    }
   ],
   "source": [
    "plt.plot(fpr,tpr,'r')\n",
    "plt.plot(fpr,fpr,'g')\n",
    "plt.xlabel('FPR')\n",
    "plt.ylabel('TPR')\n",
    "plt.show()"
   ]
  },
  {
   "cell_type": "code",
   "execution_count": 79,
   "id": "ef08a54d",
   "metadata": {},
   "outputs": [],
   "source": [
    "#Other Classification models\n",
    "\n",
    "from sklearn.tree import DecisionTreeClassifier\n",
    "from sklearn.ensemble import RandomForestClassifier\n",
    "from sklearn.neighbors import KNeighborsClassifier\n",
    "from sklearn.naive_bayes import GaussianNB\n",
    "from sklearn.ensemble import ExtraTreesClassifier\n",
    "from xgboost import XGBClassifier\n",
    "from lightgbm import LGBMClassifier"
   ]
  },
  {
   "cell_type": "code",
   "execution_count": 80,
   "id": "10e74910",
   "metadata": {},
   "outputs": [],
   "source": [
    "dt = DecisionTreeClassifier()\n",
    "rf = RandomForestClassifier()\n",
    "knn = KNeighborsClassifier()\n",
    "gnb = GaussianNB()\n",
    "er = ExtraTreesClassifier()\n",
    "xgb = XGBClassifier()\n",
    "lgb = LGBMClassifier()"
   ]
  },
  {
   "cell_type": "code",
   "execution_count": 81,
   "id": "25f07406",
   "metadata": {},
   "outputs": [],
   "source": [
    "#CV\n",
    "\n",
    "seed = 7\n",
    "\n",
    "models = []\n",
    "\n",
    "models.append(('Losgistic Regression', lr))\n",
    "models.append(('Random Forest', rf))\n",
    "models.append(('KNN', knn))\n",
    "models.append(('Decision Tree', dt))\n",
    "models.append(('Gaussian', gnb))\n",
    "models.append(('ExtraTreesRegressor', er))\n",
    "models.append(('XGBRegressor', xgb))\n",
    "models.append(('LGBMRegressor', lgb))"
   ]
  },
  {
   "cell_type": "code",
   "execution_count": 87,
   "id": "179f714a",
   "metadata": {},
   "outputs": [
    {
     "name": "stdout",
     "output_type": "stream",
     "text": [
      "Losgistic Regression: 0.823783 \n",
      "Random Forest: 0.813708 \n",
      "KNN: 0.716080 \n",
      "Decision Tree: 0.785630 \n",
      "Gaussian: 0.773308 \n",
      "ExtraTreesRegressor: 0.792372 \n",
      "XGBRegressor: 0.819351 \n",
      "LGBMRegressor: 0.822659 \n"
     ]
    }
   ],
   "source": [
    "#Cross validation and accuracy score comparision of various models\n",
    "\n",
    "from sklearn import model_selection\n",
    "import warnings\n",
    "warnings.filterwarnings('ignore')\n",
    "\n",
    "results = []\n",
    "names = []\n",
    "scoring = 'accuracy'\n",
    "for name, model in models:\n",
    "    kfold = model_selection.KFold(n_splits=10,shuffle=True, random_state=0)\n",
    "    cv_results = model_selection.cross_val_score(model, X, y, cv=kfold, scoring=scoring)\n",
    "    results.append(cv_results)\n",
    "    names.append(name)\n",
    "    msg = \"%s: %f \" % (name, cv_results.mean())\n",
    "    print(msg)"
   ]
  },
  {
   "cell_type": "code",
   "execution_count": 88,
   "id": "505a976f",
   "metadata": {},
   "outputs": [
    {
     "data": {
      "image/png": "[encoded data removed]",
      "text/plain": [
       "<Figure size 1008x576 with 1 Axes>"
      ]
     },
     "metadata": {
      "needs_background": "light"
     },
     "output_type": "display_data"
    }
   ],
   "source": [
    "#Boxplot for algorithm comparision\n",
    "\n",
    "fig = plt.figure(figsize=(14,8))\n",
    "ax = fig.add_subplot(111)\n",
    "fig.suptitle('Algorithm Comparison')\n",
    "plt.boxplot(results)\n",
    "ax.set_xticklabels(names)\n",
    "plt.show()"
   ]
  },
  {
   "cell_type": "markdown",
   "id": "f89fc142",
   "metadata": {},
   "source": [
    "# Conclusion :\n"
   ]
  },
  {
   "cell_type": "markdown",
   "id": "b1daa759",
   "metadata": {},
   "source": [
    "The best rmse score for the test data on titanic dataset prediction was given by a simple Logistic Regression model."
   ]
  },
  {
   "cell_type": "code",
   "execution_count": null,
   "id": "0bb4650b",
   "metadata": {},
   "outputs": [],
   "source": []
  }
 ],
 "metadata": {
  "kernelspec": {
   "display_name": "Python 3",
   "language": "python",
   "name": "python3"
  },
  "language_info": {
   "codemirror_mode": {
    "name": "ipython",
    "version": 3
   },
   "file_extension": ".py",
   "mimetype": "text/x-python",
   "name": "python",
   "nbconvert_exporter": "python",
   "pygments_lexer": "ipython3",
   "version": "3.8.8"
  }
 },
 "nbformat": 4,
 "nbformat_minor": 5
}
